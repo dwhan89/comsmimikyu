{
 "cells": [
  {
   "cell_type": "code",
   "execution_count": 1,
   "metadata": {},
   "outputs": [],
   "source": [
    "import numpy as np"
   ]
  },
  {
   "cell_type": "code",
   "execution_count": 9,
   "metadata": {},
   "outputs": [
    {
     "name": "stdout",
     "output_type": "stream",
     "text": [
      "(1, 5, 5, 5)\n",
      "(1, 5, 5)\n",
      "(1, 1, 5, 5)\n"
     ]
    }
   ],
   "source": [
    "a = np.arange(5*5*5, dtype=np.float).reshape(1,5,5,5)\n",
    "print(a.shape)\n",
    "b= np.sum(a, 1)\n",
    "print(b.shape)\n",
    "c = np.expand_dims(b, 1)\n",
    "print(c.shape)"
   ]
  },
  {
   "cell_type": "code",
   "execution_count": 16,
   "metadata": {},
   "outputs": [
    {
     "name": "stdout",
     "output_type": "stream",
     "text": [
      "[[[4. 4.]\n",
      "  [4. 4.]]\n",
      "\n",
      " [[4. 4.]\n",
      "  [4. 4.]]]\n",
      "(2, 2, 2)\n",
      "[[[[4. 4.]\n",
      "   [4. 4.]]]\n",
      "\n",
      "\n",
      " [[[4. 4.]\n",
      "   [4. 4.]]]]\n"
     ]
    }
   ],
   "source": [
    "a = np.zeros((2,2,2,2))\n",
    "a[...,:,:] = 2\n",
    "b= np.sum(a,1)\n",
    "print(b)\n",
    "print(b.shape)\n",
    "c = np.expand_dims(b, 1)\n",
    "print(c)"
   ]
  },
  {
   "cell_type": "code",
   "execution_count": null,
   "metadata": {},
   "outputs": [],
   "source": []
  }
 ],
 "metadata": {
  "kernelspec": {
   "display_name": "Python 3",
   "language": "python",
   "name": "python3"
  },
  "language_info": {
   "codemirror_mode": {
    "name": "ipython",
    "version": 3
   },
   "file_extension": ".py",
   "mimetype": "text/x-python",
   "name": "python",
   "nbconvert_exporter": "python",
   "pygments_lexer": "ipython3",
   "version": "3.7.7"
  }
 },
 "nbformat": 4,
 "nbformat_minor": 4
}
