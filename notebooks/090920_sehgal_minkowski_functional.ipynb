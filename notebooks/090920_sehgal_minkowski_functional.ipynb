{
 "cells": [
  {
   "cell_type": "code",
   "execution_count": 1,
   "metadata": {},
   "outputs": [],
   "source": [
    "from pitas import power, flipper_tools\n",
    "from orphics import maps as omaps\n",
    "from pixell import enplot, enmap, curvedsky\n",
    "import numpy as np\n",
    "from cosmikyu import stats, mpi, datasets, config, utils, gan, transforms\n",
    "from cosmikyu import nn as cnn\n",
    "import os\n",
    "from itertools import product\n",
    "import healpy as hp\n",
    "import matplotlib.pyplot as plt\n",
    "import random\n",
    "from minkfncts2d import MF2D\n",
    "from itertools import cycle\n",
    "\n",
    "%matplotlib inline\n",
    "%load_ext autoreload\n",
    "%autoreload 2"
   ]
  },
  {
   "cell_type": "code",
   "execution_count": 2,
   "metadata": {},
   "outputs": [
    {
     "name": "stderr",
     "output_type": "stream",
     "text": [
      "/home/dwhan89/.miniconda3/lib/python3.7/site-packages/ipykernel/ipkernel.py:287: DeprecationWarning: `should_run_async` will not call `transform_cell` automatically in the future. Please pass the result to `transformed_cell` argument and any exception that happen during thetransform in `preprocessing_exc_tuple` in IPython 7.17 and above.\n",
      "  and should_run_async(code)\n"
     ]
    }
   ],
   "source": [
    "data_dir = config.default_data_dir\n",
    "sehgal_dir = os.path.join(data_dir, 'sehgal')\n",
    "stat_dir = os.path.join(sehgal_dir, \"stats\")\n",
    "\n",
    "norm_info_file = \"/home/dwhan89/workspace/cosmikyu/data/sehgal/201020_logzshrink_normalization_info_validation.npz\"\n",
    "SDN = transforms.SehgalDataNormalizerScaledLogZShrink(norm_info_file)\n",
    "SUN = transforms.SehgalDataUnnormalizerScaledLogZShrink(norm_info_file)\n",
    "compts = [\"kappa\", \"ksz\", \"tsz\", \"ir\", \"rad\"]\n",
    "\n",
    "plot_dir = \"/home/dwhan89/scratch/outbox/cosmikyu\"\n",
    "def plot_path(x):\n",
    "    return os.path.join(plot_dir, x)"
   ]
  },
  {
   "cell_type": "code",
   "execution_count": 3,
   "metadata": {
    "scrolled": false
   },
   "outputs": [
    {
     "name": "stdout",
     "output_type": "stream",
     "text": [
      "[STATS] output_dir is /home/dwhan89/workspace/cosmikyu/cosmikyu/../data/sehgal/stats\n",
      "[STATS] loaded /home/dwhan89/workspace/cosmikyu/cosmikyu/../data/sehgal/stats/stats_sehgal_cosmoganwgpv_minko.npz\n"
     ]
    },
    {
     "ename": "TypeError",
     "evalue": "__init__() got an unexpected keyword argument 'data_type'",
     "output_type": "error",
     "traceback": [
      "\u001b[0;31m---------------------------------------------------------------------------\u001b[0m",
      "\u001b[0;31mTypeError\u001b[0m                                 Traceback (most recent call last)",
      "\u001b[0;32m<ipython-input-3-88dcdca49b1f>\u001b[0m in \u001b[0;36m<module>\u001b[0;34m\u001b[0m\n\u001b[1;32m      2\u001b[0m \u001b[0mSTAT_TEST\u001b[0m \u001b[0;34m=\u001b[0m \u001b[0mstats\u001b[0m\u001b[0;34m.\u001b[0m\u001b[0mSTATS\u001b[0m\u001b[0;34m(\u001b[0m\u001b[0;34m\"sehgal_cosmoganwgpv_minko\"\u001b[0m\u001b[0;34m,\u001b[0m \u001b[0moutput_dir\u001b[0m\u001b[0;34m=\u001b[0m\u001b[0mstat_dir\u001b[0m\u001b[0;34m,\u001b[0m \u001b[0moverwrite\u001b[0m\u001b[0;34m=\u001b[0m\u001b[0moverwrite\u001b[0m\u001b[0;34m)\u001b[0m\u001b[0;34m\u001b[0m\u001b[0;34m\u001b[0m\u001b[0m\n\u001b[1;32m      3\u001b[0m \u001b[0;34m\u001b[0m\u001b[0m\n\u001b[0;32m----> 4\u001b[0;31m \u001b[0mSDS_test\u001b[0m \u001b[0;34m=\u001b[0m \u001b[0mdatasets\u001b[0m\u001b[0;34m.\u001b[0m\u001b[0mSehgalDataSet\u001b[0m\u001b[0;34m(\u001b[0m\u001b[0msehgal_dir\u001b[0m\u001b[0;34m,\u001b[0m \u001b[0mdata_type\u001b[0m\u001b[0;34m=\u001b[0m\u001b[0;34m\"test141020\"\u001b[0m\u001b[0;34m,\u001b[0m \u001b[0mtransforms\u001b[0m\u001b[0;34m=\u001b[0m\u001b[0;34m[\u001b[0m\u001b[0mSDN\u001b[0m\u001b[0;34m]\u001b[0m\u001b[0;34m,\u001b[0m \u001b[0mdummy_label\u001b[0m\u001b[0;34m=\u001b[0m\u001b[0;32mFalse\u001b[0m\u001b[0;34m)\u001b[0m\u001b[0;34m\u001b[0m\u001b[0;34m\u001b[0m\u001b[0m\n\u001b[0m\u001b[1;32m      5\u001b[0m \u001b[0mnsample\u001b[0m \u001b[0;34m=\u001b[0m \u001b[0;36m100\u001b[0m\u001b[0;31m#len(SDS_test)\u001b[0m\u001b[0;34m\u001b[0m\u001b[0;34m\u001b[0m\u001b[0m\n\u001b[1;32m      6\u001b[0m \u001b[0;34m\u001b[0m\u001b[0m\n",
      "\u001b[0;31mTypeError\u001b[0m: __init__() got an unexpected keyword argument 'data_type'"
     ]
    }
   ],
   "source": [
    "overwrite=False\n",
    "STAT_TEST = stats.STATS(\"sehgal_cosmoganwgpv_minko\", output_dir=stat_dir, overwrite=overwrite)\n",
    "\n",
    "SDS_test = datasets.SehgalDataSet(sehgal_dir, data_type=\"test141020\", transforms=[SDN], dummy_label=False)\n",
    "nsample = 100#len(SDS_test)\n",
    "\n",
    "z = np.linspace(-30,30,300)\n",
    "for i, compt in enumerate(compts):\n",
    "    for j in range(nsample):\n",
    "        if j % 100 == 0: print(compt, j)\n",
    "        st_idx_temp = \"%s_{}\"%compt\n",
    "        if STAT_TEST.has_data(st_idx_temp.format(\"chi\"), j):\n",
    "            continue\n",
    "        for k, threshold in enumerate(z):\n",
    "            f, u, chi = MF2D(SDS_test[j][i], threshold)\n",
    "            storage[k,:] = np.array([f, u, chi])\n",
    "        STAT_TEST.add_data(st_idx_temp.format(\"f\"), j, storage[:,0].copy())\n",
    "        STAT_TEST.add_data(st_idx_temp.format(\"u\"), j, storage[:,1].copy())    \n",
    "        STAT_TEST.add_data(st_idx_temp.format(\"chi\"), j, storage[:,2].copy())\n",
    "            \n",
    "STAT_TEST.add_data(\"z\", 0, z)\n",
    "ret = STAT_TEST.get_stats()    "
   ]
  },
  {
   "cell_type": "code",
   "execution_count": null,
   "metadata": {
    "scrolled": false
   },
   "outputs": [],
   "source": [
    "STanh = cnn.ScaledTanh(30., 2./30.)\n",
    "LF = cnn.LinearFeature(5,5)\n",
    "MCM = transforms.MultiComptMultiply([1, 0.9991, 0.9834, 0.9894, 1.0034]  )\n",
    "\n",
    "norm_info_file = \"/home/dwhan89/workspace/cosmikyu/data/sehgal/201020_logzshrink_normalization_info_validation.npz\"\n",
    "experiment_id = \"63101414f2434a3e93cd28663a89f879\"\n",
    "model_dir = \"/home/dwhan89/workspace/cosmikyu/output/sehgal_dcganwgp_211020/{}/model\".format(experiment_id)\n",
    "print(model_dir)\n",
    "latent_dim = 256\n",
    "overwrite =True\n",
    "SDN = transforms.SehgalDataNormalizerScaledLogZShrink(norm_info_file)\n",
    "SUN = transforms.SehgalDataUnnormalizerScaledLogZShrink(norm_info_file)\n",
    "STAT_GEN = stats.STATS(experiment_id+\"_minko\", output_dir=stat_dir, overwrite=overwrite)\n",
    "save_points = np.arange(0,3,1)\n",
    "shape = (128,128)\n",
    "nsample = 100\n",
    "\n",
    "z = np.linspace(-30,30,300)\n",
    "for save_point in save_points: \n",
    "    DCGAN_WGP = gan.DCGAN_WGP(\"sehgal_dcganwgp\", (5,)+shape, latent_dim, cuda=False, nconv_fcgen=64,\n",
    "                                      nconv_fcdis=64, ngpu=4, nconv_layer_gen=5, nconv_layer_disc=5, \n",
    "                              kernal_size=4, stride=2, padding=1, output_padding=0, gen_act=[LF,STanh])\n",
    "    DCGAN_WGP.load_states(model_dir, \"_{}\".format(save_point))\n",
    "    \n",
    "    for i, compt in enumerate(compts):\n",
    "        for j in range(nsample):\n",
    "            if j % 6000 == 0: print(compt, j)\n",
    "            st_idx_temp = \"%s_%s_{}\"%(compt, save_point)\n",
    "            \n",
    "            #if STAT_GEN.has_data(st_idx_temp.format(\"chi\"), j):\n",
    "                #continue\n",
    "            \n",
    "            sample = MCM(DCGAN_WGP.generate_samples(1).data.numpy()[0].astype(np.float64))\n",
    "            plt.show()\n",
    "            storage = np.zeros((len(z), 3))\n",
    "            for k, threshold in enumerate(z):\n",
    "                f, u, chi = MF2D(sample[i], threshold)\n",
    "                storage[k,:] = np.array([f, u, chi])\n",
    "            \n",
    "            STAT_GEN.add_data(st_idx_temp.format(\"f\"), j, storage[:,0].copy())\n",
    "            STAT_GEN.add_data(st_idx_temp.format(\"u\"), j, storage[:,1].copy())    \n",
    "            STAT_GEN.add_data(st_idx_temp.format(\"chi\"), j, storage[:,2].copy())\n",
    "\n",
    "    STAT_GEN.add_data(\"z\", 0, z)\n",
    "ret = STAT_GEN.get_stats()  "
   ]
  },
  {
   "cell_type": "code",
   "execution_count": 4,
   "metadata": {},
   "outputs": [],
   "source": [
    "def key2label(key):\n",
    "    storage = {\"kappa\":r\"$  \\kappa  $\",\n",
    "               \"ksz\":\" kSZ \",\n",
    "               \"tsz\":\" tSZ \",\n",
    "               \"ir\":\" CIB \",\n",
    "               \"rad\":\"Radio\",\n",
    "              }\n",
    "    return storage[key]"
   ]
  },
  {
   "cell_type": "code",
   "execution_count": 5,
   "metadata": {
    "scrolled": false
   },
   "outputs": [
    {
     "name": "stderr",
     "output_type": "stream",
     "text": [
      "<>:9: DeprecationWarning: invalid escape sequence \\c\n",
      "<>:9: DeprecationWarning: invalid escape sequence \\c\n",
      "<>:9: DeprecationWarning: invalid escape sequence \\c\n",
      "<ipython-input-5-77845209fca0>:9: DeprecationWarning: invalid escape sequence \\c\n",
      "  label=\"$\\chi$ (Euler characteristic)\", color=\"g\")\n"
     ]
    },
    {
     "ename": "NameError",
     "evalue": "name 'z' is not defined",
     "output_type": "error",
     "traceback": [
      "\u001b[0;31m---------------------------------------------------------------------------\u001b[0m",
      "\u001b[0;31mNameError\u001b[0m                                 Traceback (most recent call last)",
      "\u001b[0;32m<ipython-input-5-77845209fca0>\u001b[0m in \u001b[0;36m<module>\u001b[0;34m\u001b[0m\n\u001b[1;32m      4\u001b[0m     \u001b[0mfig\u001b[0m \u001b[0;34m=\u001b[0m \u001b[0mplt\u001b[0m\u001b[0;34m.\u001b[0m\u001b[0mfigure\u001b[0m\u001b[0;34m(\u001b[0m\u001b[0mfigsize\u001b[0m\u001b[0;34m=\u001b[0m\u001b[0;34m(\u001b[0m\u001b[0;36m12\u001b[0m\u001b[0;34m,\u001b[0m\u001b[0;36m7\u001b[0m\u001b[0;34m)\u001b[0m\u001b[0;34m)\u001b[0m\u001b[0;34m\u001b[0m\u001b[0;34m\u001b[0m\u001b[0m\n\u001b[1;32m      5\u001b[0m     \u001b[0max\u001b[0m \u001b[0;34m=\u001b[0m \u001b[0mfig\u001b[0m\u001b[0;34m.\u001b[0m\u001b[0mgca\u001b[0m\u001b[0;34m(\u001b[0m\u001b[0;34m)\u001b[0m\u001b[0;34m\u001b[0m\u001b[0;34m\u001b[0m\u001b[0m\n\u001b[0;32m----> 6\u001b[0;31m     \u001b[0mplt\u001b[0m\u001b[0;34m.\u001b[0m\u001b[0mplot\u001b[0m\u001b[0;34m(\u001b[0m\u001b[0mz\u001b[0m\u001b[0;34m,\u001b[0m \u001b[0mSTAT_TEST\u001b[0m\u001b[0;34m.\u001b[0m\u001b[0mstats\u001b[0m\u001b[0;34m[\u001b[0m\u001b[0mst_idx_temp\u001b[0m\u001b[0;34m.\u001b[0m\u001b[0mformat\u001b[0m\u001b[0;34m(\u001b[0m\u001b[0;34m\"f\"\u001b[0m\u001b[0;34m)\u001b[0m\u001b[0;34m]\u001b[0m\u001b[0;34m[\u001b[0m\u001b[0;34m\"mean\"\u001b[0m\u001b[0;34m]\u001b[0m\u001b[0;34m,\u001b[0m \u001b[0malpha\u001b[0m\u001b[0;34m=\u001b[0m\u001b[0;36m0.5\u001b[0m\u001b[0;34m,\u001b[0m \u001b[0mlw\u001b[0m\u001b[0;34m=\u001b[0m\u001b[0;36m3\u001b[0m\u001b[0;34m,\u001b[0m \u001b[0mlabel\u001b[0m\u001b[0;34m=\u001b[0m\u001b[0;34m\"F (Area)\"\u001b[0m\u001b[0;34m,\u001b[0m \u001b[0mcolor\u001b[0m\u001b[0;34m=\u001b[0m\u001b[0;34m\"r\"\u001b[0m\u001b[0;34m)\u001b[0m\u001b[0;34m\u001b[0m\u001b[0;34m\u001b[0m\u001b[0m\n\u001b[0m\u001b[1;32m      7\u001b[0m     \u001b[0mplt\u001b[0m\u001b[0;34m.\u001b[0m\u001b[0mplot\u001b[0m\u001b[0;34m(\u001b[0m\u001b[0mz\u001b[0m\u001b[0;34m,\u001b[0m \u001b[0mSTAT_TEST\u001b[0m\u001b[0;34m.\u001b[0m\u001b[0mstats\u001b[0m\u001b[0;34m[\u001b[0m\u001b[0mst_idx_temp\u001b[0m\u001b[0;34m.\u001b[0m\u001b[0mformat\u001b[0m\u001b[0;34m(\u001b[0m\u001b[0;34m\"u\"\u001b[0m\u001b[0;34m)\u001b[0m\u001b[0;34m]\u001b[0m\u001b[0;34m[\u001b[0m\u001b[0;34m\"mean\"\u001b[0m\u001b[0;34m]\u001b[0m\u001b[0;34m,\u001b[0m \u001b[0malpha\u001b[0m\u001b[0;34m=\u001b[0m\u001b[0;36m0.5\u001b[0m\u001b[0;34m,\u001b[0m\u001b[0mlw\u001b[0m\u001b[0;34m=\u001b[0m\u001b[0;36m3\u001b[0m\u001b[0;34m,\u001b[0m \u001b[0mlabel\u001b[0m\u001b[0;34m=\u001b[0m\u001b[0;34m\"U (Boundary)\"\u001b[0m\u001b[0;34m,\u001b[0m \u001b[0mcolor\u001b[0m\u001b[0;34m=\u001b[0m\u001b[0;34m\"b\"\u001b[0m\u001b[0;34m)\u001b[0m\u001b[0;34m\u001b[0m\u001b[0;34m\u001b[0m\u001b[0m\n\u001b[1;32m      8\u001b[0m     plt.plot(z, STAT_TEST.stats[st_idx_temp.format(\"chi\")][\"mean\"], alpha=0.5,lw=3,\n",
      "\u001b[0;31mNameError\u001b[0m: name 'z' is not defined"
     ]
    },
    {
     "data": {
      "text/plain": [
       "<Figure size 432x288 with 0 Axes>"
      ]
     },
     "metadata": {},
     "output_type": "display_data"
    },
    {
     "data": {
      "image/png": "[encoded data removed]",
      "text/plain": [
       "<Figure size 864x504 with 1 Axes>"
      ]
     },
     "metadata": {
      "needs_background": "light"
     },
     "output_type": "display_data"
    }
   ],
   "source": [
    "\n",
    "for i, compt in enumerate(compts):\n",
    "    plt.clf()\n",
    "    st_idx_temp = \"%s_{}\"%(compt)\n",
    "    fig = plt.figure(figsize=(12,7))\n",
    "    ax = fig.gca()\n",
    "    plt.plot(z, STAT_TEST.stats[st_idx_temp.format(\"f\")][\"mean\"], alpha=0.5, lw=3, label=\"F (Area)\", color=\"r\")\n",
    "    plt.plot(z, STAT_TEST.stats[st_idx_temp.format(\"u\")][\"mean\"], alpha=0.5,lw=3, label=\"U (Boundary)\", color=\"b\")\n",
    "    plt.plot(z, STAT_TEST.stats[st_idx_temp.format(\"chi\")][\"mean\"], alpha=0.5,lw=3,\n",
    "             label=\"$\\chi$ (Euler characteristic)\", color=\"g\")\n",
    "    st_idx_temp = \"%s_%s_{}\"%(compt, save_points[0])\n",
    "    mean, std = STAT_GEN.stats[st_idx_temp.format(\"f\")][\"mean\"], STAT_GEN.stats[st_idx_temp.format(\"f\")][\"std\"]\n",
    "    plt.plot(z, mean, ls=\"--\", lw=3, color=\"r\")\n",
    "    mean, std = STAT_GEN.stats[st_idx_temp.format(\"u\")][\"mean\"], STAT_GEN.stats[st_idx_temp.format(\"u\")][\"std\"]\n",
    "    plt.plot(z, mean, ls=\"--\", lw=3, color=\"b\")\n",
    "    mean, std = STAT_GEN.stats[st_idx_temp.format(\"chi\")][\"mean\"], STAT_GEN.stats[st_idx_temp.format(\"chi\")][\"std\"]\n",
    "    plt.plot(z, mean, ls=\"--\", lw=3, color=\"g\")\n",
    "    plt.plot([],[], lw=3, color=\"k\", label=\"Reference\")\n",
    "    plt.plot([],[], ls=\"--\", lw=3, color=\"k\", label=\"Generated\")\n",
    "    plt.xlim(-5,5)\n",
    "    plt.yscale(\"linear\")\n",
    "    plt.legend(fontsize=20)\n",
    "    ax.tick_params(axis='both', which='major', labelsize=22)\n",
    "    ax.tick_params(axis='both', which='minor', labelsize=22)\n",
    "    plt.xlabel(\"Threshold\", fontsize=20)\n",
    "    plt.show()"
   ]
  },
  {
   "cell_type": "code",
   "execution_count": 44,
   "metadata": {
    "scrolled": false
   },
   "outputs": [
    {
     "name": "stdout",
     "output_type": "stream",
     "text": [
      "0 0 0\n"
     ]
    },
    {
     "name": "stderr",
     "output_type": "stream",
     "text": [
      "/home/dwhan89/.miniconda3/lib/python3.7/site-packages/ipykernel/ipkernel.py:287: DeprecationWarning: `should_run_async` will not call `transform_cell` automatically in the future. Please pass the result to `transformed_cell` argument and any exception that happen during thetransform in `preprocessing_exc_tuple` in IPython 7.17 and above.\n",
      "  and should_run_async(code)\n",
      "<>:11: DeprecationWarning: invalid escape sequence \\c\n",
      "<>:35: DeprecationWarning: invalid escape sequence \\c\n",
      "<>:11: DeprecationWarning: invalid escape sequence \\c\n",
      "<>:35: DeprecationWarning: invalid escape sequence \\c\n",
      "<>:11: DeprecationWarning: invalid escape sequence \\c\n",
      "<>:35: DeprecationWarning: invalid escape sequence \\c\n",
      "<ipython-input-44-200477c952cf>:11: DeprecationWarning: invalid escape sequence \\c\n",
      "  label=\"$\\chi$ (Euler characteristic)\", color=\"g\")\n",
      "<ipython-input-44-200477c952cf>:35: DeprecationWarning: invalid escape sequence \\c\n",
      "  axes[2,1].plot([],[], lw=3, color=\"g\", label=\"$\\chi$ (Euler characteristic)\")\n"
     ]
    },
    {
     "ename": "KeyError",
     "evalue": "'kappa_f'",
     "output_type": "error",
     "traceback": [
      "\u001b[0;31m---------------------------------------------------------------------------\u001b[0m",
      "\u001b[0;31mKeyError\u001b[0m                                  Traceback (most recent call last)",
      "\u001b[0;32m<ipython-input-44-200477c952cf>\u001b[0m in \u001b[0;36m<module>\u001b[0;34m\u001b[0m\n\u001b[1;32m     11\u001b[0m              label=\"$\\chi$ (Euler characteristic)\", color=\"g\")\n\u001b[1;32m     12\u001b[0m \u001b[0;34m\u001b[0m\u001b[0m\n\u001b[0;32m---> 13\u001b[0;31m     \u001b[0mmean\u001b[0m\u001b[0;34m,\u001b[0m \u001b[0mstd\u001b[0m \u001b[0;34m=\u001b[0m \u001b[0mSTAT_GEN\u001b[0m\u001b[0;34m.\u001b[0m\u001b[0mstats\u001b[0m\u001b[0;34m[\u001b[0m\u001b[0mst_idx_temp\u001b[0m\u001b[0;34m.\u001b[0m\u001b[0mformat\u001b[0m\u001b[0;34m(\u001b[0m\u001b[0;34m\"f\"\u001b[0m\u001b[0;34m)\u001b[0m\u001b[0;34m]\u001b[0m\u001b[0;34m[\u001b[0m\u001b[0;34m\"mean\"\u001b[0m\u001b[0;34m]\u001b[0m\u001b[0;34m,\u001b[0m \u001b[0mSTAT_GEN\u001b[0m\u001b[0;34m.\u001b[0m\u001b[0mstats\u001b[0m\u001b[0;34m[\u001b[0m\u001b[0mst_idx_temp\u001b[0m\u001b[0;34m.\u001b[0m\u001b[0mformat\u001b[0m\u001b[0;34m(\u001b[0m\u001b[0;34m\"f\"\u001b[0m\u001b[0;34m)\u001b[0m\u001b[0;34m]\u001b[0m\u001b[0;34m[\u001b[0m\u001b[0;34m\"std\"\u001b[0m\u001b[0;34m]\u001b[0m\u001b[0;34m\u001b[0m\u001b[0;34m\u001b[0m\u001b[0m\n\u001b[0m\u001b[1;32m     14\u001b[0m     \u001b[0maxes\u001b[0m\u001b[0;34m[\u001b[0m\u001b[0myidx\u001b[0m\u001b[0;34m,\u001b[0m\u001b[0mxidx\u001b[0m\u001b[0;34m]\u001b[0m\u001b[0;34m.\u001b[0m\u001b[0mplot\u001b[0m\u001b[0;34m(\u001b[0m\u001b[0mz\u001b[0m\u001b[0;34m,\u001b[0m \u001b[0mmean\u001b[0m\u001b[0;34m,\u001b[0m \u001b[0mls\u001b[0m\u001b[0;34m=\u001b[0m\u001b[0;34m\"--\"\u001b[0m\u001b[0;34m,\u001b[0m \u001b[0mlw\u001b[0m\u001b[0;34m=\u001b[0m\u001b[0;36m3\u001b[0m\u001b[0;34m,\u001b[0m \u001b[0mcolor\u001b[0m\u001b[0;34m=\u001b[0m\u001b[0;34m\"r\"\u001b[0m\u001b[0;34m)\u001b[0m\u001b[0;34m\u001b[0m\u001b[0;34m\u001b[0m\u001b[0m\n\u001b[1;32m     15\u001b[0m     \u001b[0mmean\u001b[0m\u001b[0;34m,\u001b[0m \u001b[0mstd\u001b[0m \u001b[0;34m=\u001b[0m \u001b[0mSTAT_GEN\u001b[0m\u001b[0;34m.\u001b[0m\u001b[0mstats\u001b[0m\u001b[0;34m[\u001b[0m\u001b[0mst_idx_temp\u001b[0m\u001b[0;34m.\u001b[0m\u001b[0mformat\u001b[0m\u001b[0;34m(\u001b[0m\u001b[0;34m\"u\"\u001b[0m\u001b[0;34m)\u001b[0m\u001b[0;34m]\u001b[0m\u001b[0;34m[\u001b[0m\u001b[0;34m\"mean\"\u001b[0m\u001b[0;34m]\u001b[0m\u001b[0;34m,\u001b[0m \u001b[0mSTAT_GEN\u001b[0m\u001b[0;34m.\u001b[0m\u001b[0mstats\u001b[0m\u001b[0;34m[\u001b[0m\u001b[0mst_idx_temp\u001b[0m\u001b[0;34m.\u001b[0m\u001b[0mformat\u001b[0m\u001b[0;34m(\u001b[0m\u001b[0;34m\"u\"\u001b[0m\u001b[0;34m)\u001b[0m\u001b[0;34m]\u001b[0m\u001b[0;34m[\u001b[0m\u001b[0;34m\"std\"\u001b[0m\u001b[0;34m]\u001b[0m\u001b[0;34m\u001b[0m\u001b[0;34m\u001b[0m\u001b[0m\n",
      "\u001b[0;31mKeyError\u001b[0m: 'kappa_f'"
     ]
    },
    {
     "data": {
      "text/plain": [
       "<Figure size 432x288 with 0 Axes>"
      ]
     },
     "metadata": {},
     "output_type": "display_data"
    },
    {
     "data": {
      "image/png": "[encoded data removed]",
      "text/plain": [
       "<Figure size 864x1080 with 6 Axes>"
      ]
     },
     "metadata": {
      "needs_background": "light"
     },
     "output_type": "display_data"
    }
   ],
   "source": [
    "plt.clf()\n",
    "fig, axes = plt.subplots(3,2, figsize=(12,15), sharex='all', sharey='all')\n",
    "for i, compt in enumerate(compts):\n",
    "    yidx = i // 2\n",
    "    xidx = i % 2\n",
    "    print(i, yidx, xidx)\n",
    "    st_idx_temp = \"%s_{}\"%compt\n",
    "    axes[yidx,xidx].plot(z, STAT_TEST.stats[st_idx_temp.format(\"f\")][\"mean\"], alpha=0.5, lw=3, label=\"F (Area)\", color=\"r\")\n",
    "    axes[yidx,xidx].plot(z, STAT_TEST.stats[st_idx_temp.format(\"u\")][\"mean\"], alpha=0.5,lw=3, label=\"U (Boundary)\", color=\"b\")\n",
    "    axes[yidx,xidx].plot(z, STAT_TEST.stats[st_idx_temp.format(\"chi\")][\"mean\"], alpha=0.5,lw=3,\n",
    "             label=\"$\\chi$ (Euler characteristic)\", color=\"g\")\n",
    "    \n",
    "    mean, std = STAT_GEN.stats[st_idx_temp.format(\"f\")][\"mean\"], STAT_GEN.stats[st_idx_temp.format(\"f\")][\"std\"]\n",
    "    axes[yidx,xidx].plot(z, mean, ls=\"--\", lw=3, color=\"r\")\n",
    "    mean, std = STAT_GEN.stats[st_idx_temp.format(\"u\")][\"mean\"], STAT_GEN.stats[st_idx_temp.format(\"u\")][\"std\"]\n",
    "    axes[yidx,xidx].plot(z, mean, ls=\"--\", lw=3, color=\"b\")\n",
    "    mean, std = STAT_GEN.stats[st_idx_temp.format(\"chi\")][\"mean\"], STAT_GEN.stats[st_idx_temp.format(\"chi\")][\"std\"]\n",
    "    axes[yidx,xidx].plot(z, mean, ls=\"--\", lw=3, color=\"g\")\n",
    "    axes[yidx,xidx].set_xlim([-3,3])\n",
    "    axes[yidx,xidx].set_ylim(-1000, 17000)\n",
    "    axes[yidx,xidx].tick_params(axis='both', which='major', labelsize=25)\n",
    "    axes[yidx,xidx].tick_params(axis='both', which='minor', labelsize=25)\n",
    "    axes[yidx,xidx].grid()\n",
    "    axes[yidx,xidx].text(0.90, 0.8, key2label(compt),\n",
    "        verticalalignment='bottom', horizontalalignment='right',\n",
    "        transform=axes[yidx,xidx].transAxes,\n",
    "        color='k', fontsize=25, bbox={'facecolor': 'white', 'alpha': 0.8, 'pad': 10})\n",
    "    plt.subplots_adjust(wspace=None, hspace=None)\n",
    "    axes[yidx,xidx].set_xlabel(\"Threshold\", fontsize=23)\n",
    "    #plt.plot([],[], lw=3, color=\"k\", label=\"Reference\")\n",
    "    #plt.plot([],[], ls=\"--\", lw=3, color=\"k\", label=\"Generated\")\n",
    " \n",
    "axes[2,1].plot([],[], lw=3, color=\"r\", label=\"F (Area)\")\n",
    "axes[2,1].plot([],[], lw=3, color=\"b\", label=\"U (Boundary)\")\n",
    "axes[2,1].plot([],[], lw=3, color=\"g\", label=\"$\\chi$ (Euler characteristic)\")\n",
    "axes[2,1].plot([],[], lw=3, color=\"k\", label=\"Sehgal et al.\")\n",
    "axes[2,1].plot([],[], ls=\"--\", lw=3, color=\"k\", label=\"Network\")\n",
    "axes[2,1].tick_params(axis='both', which='major', labelsize=25)\n",
    "axes[2,1].tick_params(axis='both', which='minor', labelsize=25)\n",
    "axes[2,1].grid()\n",
    "axes[2,1].set_xlabel(\"Threshold\", fontsize=25)\n",
    "axes[2,1].legend(fontsize=20)\n",
    "plt.subplots_adjust(wspace=0, hspace=0)\n",
    "\n",
    "plt.savefig(plot_path(\"141020_minko.pdf\"))\n",
    "plt.show()"
   ]
  },
  {
   "cell_type": "code",
   "execution_count": null,
   "metadata": {},
   "outputs": [],
   "source": []
  }
 ],
 "metadata": {
  "kernelspec": {
   "display_name": "Python 3",
   "language": "python",
   "name": "python3"
  },
  "language_info": {
   "codemirror_mode": {
    "name": "ipython",
    "version": 3
   },
   "file_extension": ".py",
   "mimetype": "text/x-python",
   "name": "python",
   "nbconvert_exporter": "python",
   "pygments_lexer": "ipython3",
   "version": "3.7.7"
  }
 },
 "nbformat": 4,
 "nbformat_minor": 4
}
