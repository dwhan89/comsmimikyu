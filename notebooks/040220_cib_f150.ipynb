{
 "cells": [
  {
   "cell_type": "code",
   "execution_count": 13,
   "metadata": {},
   "outputs": [
    {
     "name": "stdout",
     "output_type": "stream",
     "text": [
      "The autoreload extension is already loaded. To reload it, use:\n",
      "  %reload_ext autoreload\n"
     ]
    }
   ],
   "source": [
    "from cosmikyu import visualization as covis\n",
    "from cosmikyu import gan, config, maps\n",
    "from cosmikyu import transforms as cmk_transfomrs\n",
    "import numpy as np\n",
    "import os\n",
    "import torchvision.transforms as transforms\n",
    "import matplotlib.pyplot as plt\n",
    "import torch\n",
    "from soapack import interfaces as soint\n",
    "from pixell import utils\n",
    "\n",
    "%matplotlib inline\n",
    "%load_ext autoreload\n",
    "%autoreload 2\n",
    "\n",
    "import warnings\n",
    "warnings.filterwarnings('ignore')"
   ]
  },
  {
   "cell_type": "code",
   "execution_count": 14,
   "metadata": {},
   "outputs": [],
   "source": [
    "npix = 150\n",
    "res_arcmin = 2.0\n",
    "shape = (npix, npix)\n",
    "batch_size = 8\n",
    "latent_dim = 64\n",
    "\n",
    "output_dir = config.default_data_dir\n",
    "def output_path(x):\n",
    "    return os.path.join(output_dir, x)\n",
    "\n",
    "stamp_dir = output_path(\"stamp_{}arcmin_{}x{}\".format(res_arcmin, shape[0], shape[1]))\n",
    "\n",
    "meta = np.loadtxt(output_path('ir_pts/148_meta.txt'))\n",
    "PS = cmk_transfomrs.TakePS(bin_edges=np.linspace(0,7000,200), shape=shape)\n",
    "NN = cmk_transfomrs.Normalize(meta)\n",
    "#UN = cmk_transforms.UnNormalize(meta)\n",
    "TE = cmk_transfomrs.ToEnmap()\n",
    "DW = cmk_transfomrs.DropWCS()\n",
    "composed = transforms.Compose([PS, NN, DW])#, TE])"
   ]
  },
  {
   "cell_type": "code",
   "execution_count": 15,
   "metadata": {},
   "outputs": [
    {
     "name": "stdout",
     "output_type": "stream",
     "text": [
      "False\n"
     ]
    }
   ],
   "source": [
    "SSDS = maps.StampedSkyDataSet(stamp_dir, 3600, res_arcmin, 'ir_pts', 148, shape, transform=composed)\n",
    "cuda = torch.cuda.is_available()\n",
    "print(cuda)\n",
    "\n",
    "dataloader = torch.utils.data.DataLoader(\n",
    "    SSDS,\n",
    "    batch_size=batch_size,\n",
    "    shuffle=True,\n",
    ")\n",
    "VP = None;#covis.VisdomPlotter()\n"
   ]
  },
  {
   "cell_type": "code",
   "execution_count": 16,
   "metadata": {},
   "outputs": [],
   "source": [
    "WGAN = gan.WGAN(\"cib_f150v2\", shape, latent_dim, cuda=cuda, ngpu=4)"
   ]
  },
  {
   "cell_type": "code",
   "execution_count": null,
   "metadata": {
    "scrolled": false
   },
   "outputs": [
    {
     "name": "stdout",
     "output_type": "stream",
     "text": [
      "loading saved states\n",
      "[Epoch 0/200] [Batch 0/450] [D loss: 0.024327] [G loss: -0.074685]\n",
      "saving states\n",
      "[Epoch 0/200] [Batch 5/450] [D loss: 0.414264] [G loss: -0.282869]\n",
      "[Epoch 0/200] [Batch 10/450] [D loss: 0.633847] [G loss: -0.246584]\n",
      "[Epoch 0/200] [Batch 15/450] [D loss: 0.424724] [G loss: 0.088553]\n",
      "[Epoch 0/200] [Batch 20/450] [D loss: 0.218432] [G loss: 0.270062]\n",
      "[Epoch 0/200] [Batch 25/450] [D loss: -0.054948] [G loss: 0.469372]\n",
      "[Epoch 0/200] [Batch 30/450] [D loss: -0.115135] [G loss: 0.318105]\n",
      "[Epoch 0/200] [Batch 35/450] [D loss: -0.045577] [G loss: 0.068713]\n",
      "[Epoch 0/200] [Batch 40/450] [D loss: 0.038827] [G loss: -0.153716]\n",
      "[Epoch 0/200] [Batch 45/450] [D loss: 0.071048] [G loss: -0.286684]\n",
      "[Epoch 0/200] [Batch 50/450] [D loss: 0.095380] [G loss: -0.363302]\n",
      "[Epoch 0/200] [Batch 55/450] [D loss: 0.089395] [G loss: -0.367135]\n",
      "[Epoch 0/200] [Batch 60/450] [D loss: 0.045836] [G loss: -0.288004]\n",
      "[Epoch 0/200] [Batch 65/450] [D loss: 0.097777] [G loss: -0.299294]\n",
      "[Epoch 0/200] [Batch 70/450] [D loss: 0.103472] [G loss: -0.253976]\n",
      "[Epoch 0/200] [Batch 75/450] [D loss: 0.140951] [G loss: -0.239614]\n",
      "[Epoch 0/200] [Batch 80/450] [D loss: 0.049935] [G loss: -0.075461]\n",
      "[Epoch 0/200] [Batch 85/450] [D loss: 0.056883] [G loss: -0.045495]\n",
      "[Epoch 0/200] [Batch 90/450] [D loss: 0.018234] [G loss: 0.019069]\n",
      "[Epoch 0/200] [Batch 95/450] [D loss: 0.032507] [G loss: 0.008168]\n",
      "[Epoch 0/200] [Batch 100/450] [D loss: 0.004361] [G loss: 0.033191]\n",
      "[Epoch 0/200] [Batch 105/450] [D loss: 0.023894] [G loss: -0.005270]\n",
      "[Epoch 0/200] [Batch 110/450] [D loss: 0.096329] [G loss: -0.098887]\n",
      "[Epoch 0/200] [Batch 115/450] [D loss: 0.148436] [G loss: -0.159190]\n"
     ]
    }
   ],
   "source": [
    "WGAN.train(dataloader, visdom_plotter=VP, verbose=True, save_interval=450)"
   ]
  },
  {
   "cell_type": "code",
   "execution_count": null,
   "metadata": {},
   "outputs": [],
   "source": []
  }
 ],
 "metadata": {
  "kernelspec": {
   "display_name": "Python 3",
   "language": "python",
   "name": "python3"
  },
  "language_info": {
   "codemirror_mode": {
    "name": "ipython",
    "version": 3
   },
   "file_extension": ".py",
   "mimetype": "text/x-python",
   "name": "python",
   "nbconvert_exporter": "python",
   "pygments_lexer": "ipython3",
   "version": "3.6.9"
  }
 },
 "nbformat": 4,
 "nbformat_minor": 2
}
