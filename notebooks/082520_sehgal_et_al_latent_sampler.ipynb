{
 "cells": [
  {
   "cell_type": "code",
   "execution_count": 1,
   "metadata": {},
   "outputs": [],
   "source": [
    "import numpy as np\n",
    "import os\n",
    "import matplotlib.pyplot as plt\n",
    "from cosmikyu import config, datasets, transforms, stats, utils\n",
    "from scipy.interpolate import interp1d\n",
    "from scipy.optimize import fsolve\n",
    "\n",
    "%matplotlib inline\n",
    "%load_ext autoreload\n",
    "%autoreload 2"
   ]
  },
  {
   "cell_type": "code",
   "execution_count": 2,
   "metadata": {},
   "outputs": [],
   "source": [
    "data_dir = \"/home/dwhan89/workspace/cosmikyu/data/sehgal\"\n",
    "def data_path(x):\n",
    "    return os.path.join(data_dir, x)\n",
    "\n",
    "model_hist = utils.load_data(data_path(\"normalized_histogram_modelv2.npz\"))\n",
    "model_pdfcdf = {} \n",
    "for key in model_hist:\n",
    "    total_val = np.sum(model_hist[key][\"hist\"])\n",
    "    model_pdfcdf[key] = {\"x\": model_hist[key][\"bin_centers\"],\n",
    "                      \"pdf\": model_hist[key][\"hist\"]/total_val,\n",
    "                      \"cdf\": np.cumsum(model_hist[key][\"hist\"]/total_val)}\n",
    "    \n",
    "np.savez(data_path(\"normalized_pdfcdf_modelv2.npz\"), **model_pdfcdf)"
   ]
  },
  {
   "cell_type": "code",
   "execution_count": 41,
   "metadata": {},
   "outputs": [
    {
     "name": "stdout",
     "output_type": "stream",
     "text": [
      "0 kappa\n",
      "[-0.04852408]\n",
      "1 ksz\n",
      "[-0.00272363]\n",
      "2 tsz\n",
      "[0.21454381]\n",
      "3 ir_pts\n",
      "[-0.03692011]\n",
      "4 rad_pts\n",
      "[-0.05322947]\n"
     ]
    }
   ],
   "source": [
    "channel_idxes = [\"kappa\", \"ksz\", \"tsz\", \"ir_pts\", \"rad_pts\"]\n",
    "nchannel = len(channel_idxes)\n",
    "interpolators = [None]*nchannel\n",
    "funcs = [None]*nchannel\n",
    "\n",
    "def f(x, *args):\n",
    "    y, intp = args\n",
    "    return intp(x) - y\n",
    "fsolve_wrapper = lambda y, intp: fsolve(f, 0.,  args=(y, intp))\n",
    "\n",
    "for i in range(nchannel):\n",
    "    idx = channel_idxes[i]\n",
    "    print(i, idx)\n",
    "    interpolators[i] = interp1d(model_pdfcdf[idx]['x'], model_pdfcdf[idx]['cdf'], bounds_error=False, fill_value=(0,1), assume_sorted=True)\n",
    "\n",
    "    samplers[i] = lambda y, intp: fsolve(f, 0.,  args=(y, intp))\n",
    "    "
   ]
  },
  {
   "cell_type": "code",
   "execution_count": 46,
   "metadata": {},
   "outputs": [
    {
     "name": "stdout",
     "output_type": "stream",
     "text": [
      "0\n",
      "1\n",
      "2\n",
      "3\n",
      "4\n"
     ]
    },
    {
     "data": {
      "text/plain": [
       "<matplotlib.legend.Legend at 0x7f1f1350e090>"
      ]
     },
     "execution_count": 46,
     "metadata": {},
     "output_type": "execute_result"
    },
    {
     "data": {
      "image/png": "[encoded data removed]",
      "text/plain": [
       "<Figure size 432x288 with 1 Axes>"
      ]
     },
     "metadata": {
      "needs_background": "light"
     },
     "output_type": "display_data"
    }
   ],
   "source": [
    "x = np.random.uniform(0,1, 10000)\n",
    "\n",
    "\n",
    "for j in range(5):\n",
    "    print(j)\n",
    "    y = np.zeros(len(x))\n",
    "    for i in range(len(x)):\n",
    "        y[i] = fsolve_wrapper(x[i], interpolators[j])\n",
    "    plt.hist(y, bins=100, density=True, alpha=0.3, label=j)\n",
    "plt.yscale(\"log\")\n",
    "plt.legend()"
   ]
  },
  {
   "cell_type": "code",
   "execution_count": 148,
   "metadata": {},
   "outputs": [
    {
     "data": {
      "text/plain": [
       "(array([4.50323654e-04, 0.00000000e+00, 0.00000000e+00, 0.00000000e+00,\n",
       "        4.50323654e-04, 4.50323654e-04, 4.50323654e-04, 4.50323654e-04,\n",
       "        4.50323654e-04, 0.00000000e+00, 9.00647307e-04, 0.00000000e+00,\n",
       "        0.00000000e+00, 1.80129461e-03, 9.00647307e-04, 2.70194192e-03,\n",
       "        2.25161827e-03, 1.35097096e-03, 2.70194192e-03, 3.15226558e-03,\n",
       "        2.70194192e-03, 5.85420750e-03, 8.10582577e-03, 9.90712038e-03,\n",
       "        1.03574440e-02, 9.45679673e-03, 1.80129461e-02, 2.16155354e-02,\n",
       "        3.19729794e-02, 4.27807471e-02, 8.73627888e-02, 1.27441594e-01,\n",
       "        2.06248233e-01, 3.55305363e-01, 5.40838708e-01, 6.34055704e-01,\n",
       "        6.64677713e-01, 5.72361364e-01, 3.87278342e-01, 2.43625097e-01,\n",
       "        1.45454540e-01, 8.78131125e-02, 5.98930459e-02, 4.00788052e-02,\n",
       "        2.79200665e-02, 2.02645644e-02, 1.75626225e-02, 1.35097096e-02,\n",
       "        1.17084150e-02, 1.08077677e-02, 8.10582577e-03, 1.03574440e-02,\n",
       "        6.30453115e-03, 4.50323654e-03, 4.05291288e-03, 4.50323654e-03,\n",
       "        2.70194192e-03, 2.70194192e-03, 1.80129461e-03, 9.00647307e-04,\n",
       "        2.25161827e-03, 2.25161827e-03, 4.50323654e-04, 2.25161827e-03,\n",
       "        2.70194192e-03, 2.25161827e-03, 1.80129461e-03, 1.80129461e-03,\n",
       "        0.00000000e+00, 4.50323654e-04, 4.50323654e-04, 4.50323654e-04,\n",
       "        4.50323654e-04, 4.50323654e-04, 1.35097096e-03, 9.00647307e-04,\n",
       "        0.00000000e+00, 4.50323654e-04, 4.50323654e-04, 0.00000000e+00,\n",
       "        0.00000000e+00, 0.00000000e+00, 4.50323654e-04, 0.00000000e+00,\n",
       "        0.00000000e+00, 0.00000000e+00, 0.00000000e+00, 4.50323654e-04,\n",
       "        0.00000000e+00, 1.35097096e-03, 0.00000000e+00, 0.00000000e+00,\n",
       "        0.00000000e+00, 0.00000000e+00, 0.00000000e+00, 0.00000000e+00,\n",
       "        0.00000000e+00, 0.00000000e+00, 0.00000000e+00, 4.50323654e-04]),\n",
       " array([-8.07649946, -7.85443695, -7.63237444, -7.41031193, -7.18824942,\n",
       "        -6.96618692, -6.74412441, -6.5220619 , -6.29999939, -6.07793688,\n",
       "        -5.85587437, -5.63381187, -5.41174936, -5.18968685, -4.96762434,\n",
       "        -4.74556183, -4.52349933, -4.30143682, -4.07937431, -3.8573118 ,\n",
       "        -3.63524929, -3.41318679, -3.19112428, -2.96906177, -2.74699926,\n",
       "        -2.52493675, -2.30287425, -2.08081174, -1.85874923, -1.63668672,\n",
       "        -1.41462421, -1.1925617 , -0.9704992 , -0.74843669, -0.52637418,\n",
       "        -0.30431167, -0.08224916,  0.13981334,  0.36187585,  0.58393836,\n",
       "         0.80600087,  1.02806338,  1.25012588,  1.47218839,  1.6942509 ,\n",
       "         1.91631341,  2.13837592,  2.36043842,  2.58250093,  2.80456344,\n",
       "         3.02662595,  3.24868846,  3.47075097,  3.69281347,  3.91487598,\n",
       "         4.13693849,  4.359001  ,  4.58106351,  4.80312601,  5.02518852,\n",
       "         5.24725103,  5.46931354,  5.69137605,  5.91343855,  6.13550106,\n",
       "         6.35756357,  6.57962608,  6.80168859,  7.02375109,  7.2458136 ,\n",
       "         7.46787611,  7.68993862,  7.91200113,  8.13406364,  8.35612614,\n",
       "         8.57818865,  8.80025116,  9.02231367,  9.24437618,  9.46643868,\n",
       "         9.68850119,  9.9105637 , 10.13262621, 10.35468872, 10.57675122,\n",
       "        10.79881373, 11.02087624, 11.24293875, 11.46500126, 11.68706376,\n",
       "        11.90912627, 12.13118878, 12.35325129, 12.5753138 , 12.79737631,\n",
       "        13.01943881, 13.24150132, 13.46356383, 13.68562634, 13.90768885,\n",
       "        14.12975135]),\n",
       " <a list of 100 Patch objects>)"
      ]
     },
     "execution_count": 148,
     "metadata": {},
     "output_type": "execute_result"
    },
    {
     "data": {
      "image/png": "[encoded data removed]",
      "text/plain": [
       "<Figure size 432x288 with 1 Axes>"
      ]
     },
     "metadata": {
      "needs_background": "light"
     },
     "output_type": "display_data"
    }
   ],
   "source": [
    "\n",
    "#plt.plot(model_pdfcdf[key][\"x\"], model_pdfcdf[key][\"pdf\"])"
   ]
  },
  {
   "cell_type": "code",
   "execution_count": 137,
   "metadata": {},
   "outputs": [],
   "source": [
    "plt.hist??"
   ]
  },
  {
   "cell_type": "code",
   "execution_count": null,
   "metadata": {},
   "outputs": [],
   "source": []
  }
 ],
 "metadata": {
  "kernelspec": {
   "display_name": "Python 3",
   "language": "python",
   "name": "python3"
  }
 },
 "nbformat": 4,
 "nbformat_minor": 4
}
