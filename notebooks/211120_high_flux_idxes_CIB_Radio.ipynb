{
 "cells": [
  {
   "cell_type": "code",
   "execution_count": null,
   "metadata": {},
   "outputs": [],
   "source": [
    "from orphics import sehgal, maps\n",
    "import healpy as hp\n",
    "from pixell import utils, enmap, curvedsky, enplot, wcsutils\n",
    "import os\n",
    "import numpy as np\n",
    "\n",
    "import matplotlib.pyplot as plt\n",
    "import lmdb\n",
    "from cosmikyu import datasets, transforms, config\n",
    "from pitas import modecoupling\n",
    "import random\n",
    "\n",
    "%matplotlib inline\n",
    "%load_ext autoreload\n",
    "%autoreload 2"
   ]
  },
  {
   "cell_type": "code",
   "execution_count": null,
   "metadata": {},
   "outputs": [],
   "source": [
    "data_dir = config.default_data_dir\n",
    "sehgal_dir = os.path.join(data_dir, 'sehgal')\n",
    "stat_dir = os.path.join(sehgal_dir, \"stats\")\n",
    "#norm_info_file = \"/home/dwhan89/workspace/cosmikyu/data/sehgal/201020_logzshrink_normalization_info_validation.npz\"\n",
    "#SDN = transforms.SehgalDataNormalizerScaledLogZShrink(norm_info_file)\n",
    "#SDS_test = datasets.SehgalDataSet(sehgal_dir, \"train141020\", transforms=[SDN], dummy_label=False)\n",
    "#SDS_input = datasets.SehgalDataSet(sehgal_dir, \"train_tertiary191120\", \n",
    "#                                   transforms=[SDN], dummy_label=False, dtype=np.float32)\n",
    "\n",
    "norm_info_file = \"/home/dwhan89/workspace/cosmikyu/data/sehgal/281220_logz_normalization_info_validation.npz\"\n",
    "SDN = transforms.SehgalDataNormalizerScaledLogZShrink(norm_info_file)\n",
    "SDS_test = datasets.SehgalDataSet(sehgal_dir, \"train281220_fromcat\", transforms=[SDN], dummy_label=False,\n",
    "                                    dtype=np.float64)\n",
    "SDS_input = datasets.SehgalDataSet(sehgal_dir, \"train_tertiary281220_fromcat\", transforms=[SDN],\n",
    "                                   dummy_label=False, dtype=np.float32)\n",
    "\n",
    "plot_dir = \"/home/dwhan89/scratch/outbox/cosmikyu\"\n",
    "def plot_path(x):\n",
    "    return os.path.join(plot_dir, x)"
   ]
  },
  {
   "cell_type": "code",
   "execution_count": null,
   "metadata": {},
   "outputs": [],
   "source": [
    "ps_file = \"/home/dwhan89/workspace/cosmikyu/data/sehgal/ps_dist_train010121.npy\"\n",
    "nsample = len(SDS_test)\n",
    "if not os.path.exists(ps_file):\n",
    "    storage = np.zeros((nsample, 5))\n",
    "    for i in range(len(SDS_test)):\n",
    "        if i % 5000 == 0: print(i)\n",
    "        storage[i,:] = np.var(SDS_test[i], axis=(-1,-2))\n",
    "    np.save(ps_file, storage)\n",
    "else:\n",
    "    storage = np.load(ps_file)"
   ]
  },
  {
   "cell_type": "code",
   "execution_count": null,
   "metadata": {},
   "outputs": [],
   "source": [
    "bin_edges = np.linspace(0,storage[:,2].max(),200)\n",
    "bin_center = (bin_edges[:-1]+ bin_edges[1:])/2\n",
    "digitized = np.digitize(storage[:,2], bin_edges)\n",
    "nbin = len(bin_center)\n",
    "binned = np.zeros(nbin)\n",
    "for i in range(nbin):\n",
    "    binned[i] = np.sum(digitized == i+1)\n",
    "binned /= nsample\n",
    "del digitized\n",
    "#hist, binedges = np.histogram(storage[:,2], bins=100, density=False)\n",
    "\n",
    "plt.plot(bin_center, binned)\n",
    "plt.xlim(0,5)\n",
    "plt.grid()\n",
    "\n",
    "frac = 0.20\n",
    "npart = int(nsample*frac)\n",
    "ind = np.argpartition(storage[:,2], -npart)[-npart:]\n",
    "print(np.min(storage[ind,2]))\n",
    "print(npart/nsample*100)\n",
    "for i in range(5):\n",
    "    cidx = random.choice(ind)\n",
    "    enplot.pshow(SDS_test[cidx][2])\n",
    "\n",
    "highflux_idx = [i for i in range(nsample) if i in ind]\n",
    "lowflux_idx = [i for i in range(nsample) if i not in ind]\n",
    "\n",
    "np.save(\"/home/dwhan89/workspace/cosmikyu/data/sehgal/ps_dist_train010121_tszflux_sortedidx.npy\", np.argsort(storage[:,2]))\n"
   ]
  },
  {
   "cell_type": "code",
   "execution_count": null,
   "metadata": {},
   "outputs": [],
   "source": [
    "ps_file = \"/home/dwhan89/workspace/cosmikyu/data/sehgal/ps_dist_tertiary_train010121.npy\"\n",
    "nsample = len(SDS_input)\n",
    "if not os.path.exists(ps_file):\n",
    "    storage = np.zeros((nsample, 5))\n",
    "    for i in range(len(SDS_input)):\n",
    "        if i % 5000 == 0: print(i)\n",
    "        storage[i,:] = np.var(SDS_input[i], axis=(-1,-2))\n",
    "    np.save(ps_file, storage)\n",
    "else:\n",
    "    storage = np.load(ps_file)"
   ]
  },
  {
   "cell_type": "code",
   "execution_count": null,
   "metadata": {},
   "outputs": [],
   "source": [
    "bin_edges = np.linspace(0,storage[:,2].max(),200)\n",
    "bin_center = (bin_edges[:-1]+ bin_edges[1:])/2\n",
    "digitized = np.digitize(storage[:,2], bin_edges)\n",
    "nbin = len(bin_center)\n",
    "binned = np.zeros(nbin)\n",
    "for i in range(nbin):\n",
    "    binned[i] = np.sum(digitized == i+1)\n",
    "binned /= nsample\n",
    "del digitized\n",
    "#hist, binedges = np.histogram(storage[:,2], bins=100, density=False)\n",
    "\n",
    "plt.plot(bin_center, binned)\n",
    "plt.xlim(0,2)\n",
    "plt.grid()\n",
    "\n",
    "frac = 0.2\n",
    "npart = int(nsample*frac)\n",
    "ind = np.argpartition(storage[:,2], -npart)[-npart:]\n",
    "print(np.min(storage[ind,2]))\n",
    "print(npart/nsample*100)\n",
    "for i in range(5):\n",
    "    cidx = random.choice(ind)\n",
    "    enplot.pshow(SDS_test[cidx][2])\n",
    "    \n",
    "np.save(\"/home/dwhan89/workspace/cosmikyu/data/sehgal/ps_dist_tertiary_train010121_tszflux_sortedidx.npy\", np.argsort(storage[:,2]))\n"
   ]
  },
  {
   "cell_type": "code",
   "execution_count": null,
   "metadata": {},
   "outputs": [],
   "source": []
  }
 ],
 "metadata": {
  "kernelspec": {
   "display_name": "Python 3",
   "language": "python",
   "name": "python3"
  },
  "language_info": {
   "codemirror_mode": {
    "name": "ipython",
    "version": 3
   },
   "file_extension": ".py",
   "mimetype": "text/x-python",
   "name": "python",
   "nbconvert_exporter": "python",
   "pygments_lexer": "ipython3",
   "version": "3.7.7"
  }
 },
 "nbformat": 4,
 "nbformat_minor": 4
}
