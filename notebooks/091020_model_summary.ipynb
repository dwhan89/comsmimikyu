{
 "cells": [
  {
   "cell_type": "code",
   "execution_count": 4,
   "metadata": {},
   "outputs": [
    {
     "name": "stdout",
     "output_type": "stream",
     "text": [
      "The autoreload extension is already loaded. To reload it, use:\n",
      "  %reload_ext autoreload\n"
     ]
    },
    {
     "name": "stderr",
     "output_type": "stream",
     "text": [
      "/home/dwhan89/.miniconda3/lib/python3.7/site-packages/ipykernel/ipkernel.py:287: DeprecationWarning: `should_run_async` will not call `transform_cell` automatically in the future. Please pass the result to `transformed_cell` argument and any exception that happen during thetransform in `preprocessing_exc_tuple` in IPython 7.17 and above.\n",
      "  and should_run_async(code)\n"
     ]
    }
   ],
   "source": [
    "from cosmikyu import gan, config\n",
    "from cosmikyu import nn as cnn\n",
    "import numpy as np\n",
    "import os\n",
    "import torchvision.transforms as transforms\n",
    "from torchvision import datasets\n",
    "from torchvision.utils import save_image\n",
    "import matplotlib.pyplot as plt\n",
    "import torch\n",
    "import mlflow\n",
    "import torchsummary\n",
    "\n",
    "%matplotlib inline\n",
    "%load_ext autoreload\n",
    "%autoreload 2"
   ]
  },
  {
   "cell_type": "code",
   "execution_count": 7,
   "metadata": {},
   "outputs": [
    {
     "name": "stderr",
     "output_type": "stream",
     "text": [
      "WARNING:root:Malformed experiment 'mlruns'. Detailed error Yaml file '/home/dwhan89/workspace/cosmikyu/cosmikyu/../output/mlruns/mlruns/meta.yaml' does not exist.\n",
      "Traceback (most recent call last):\n",
      "  File \"/home/dwhan89/.miniconda3/lib/python3.7/site-packages/mlflow/store/tracking/file_store.py\", line 197, in list_experiments\n",
      "    experiment = self._get_experiment(exp_id, view_type)\n",
      "  File \"/home/dwhan89/.miniconda3/lib/python3.7/site-packages/mlflow/store/tracking/file_store.py\", line 260, in _get_experiment\n",
      "    meta = read_yaml(experiment_dir, FileStore.META_DATA_FILE_NAME)\n",
      "  File \"/home/dwhan89/.miniconda3/lib/python3.7/site-packages/mlflow/utils/file_utils.py\", line 167, in read_yaml\n",
      "    raise MissingConfigException(\"Yaml file '%s' does not exist.\" % file_path)\n",
      "mlflow.exceptions.MissingConfigException: Yaml file '/home/dwhan89/workspace/cosmikyu/cosmikyu/../output/mlruns/mlruns/meta.yaml' does not exist.\n"
     ]
    },
    {
     "name": "stdout",
     "output_type": "stream",
     "text": [
      "[WARNING] You have a CUDA device. You probably want to run with CUDA enabled\n",
      "====cosmogan_wgp======\n",
      "----------------------------------------------------------------\n",
      "        Layer (type)               Output Shape         Param #\n",
      "================================================================\n",
      "            Conv2d-1           [-1, 64, 64, 64]           8,064\n",
      "         LeakyReLU-2           [-1, 64, 64, 64]               0\n",
      "            Conv2d-3          [-1, 128, 32, 32]         204,928\n",
      "         LeakyReLU-4          [-1, 128, 32, 32]               0\n",
      "            Conv2d-5          [-1, 256, 16, 16]         819,456\n",
      "         LeakyReLU-6          [-1, 256, 16, 16]               0\n",
      "            Conv2d-7            [-1, 512, 8, 8]       3,277,312\n",
      "         LeakyReLU-8            [-1, 512, 8, 8]               0\n",
      "            Conv2d-9           [-1, 1024, 4, 4]      13,108,224\n",
      "        LeakyReLU-10           [-1, 1024, 4, 4]               0\n",
      "          Reshape-11                [-1, 16384]               0\n",
      "           Linear-12                    [-1, 1]          16,385\n",
      "================================================================\n",
      "Total params: 17,434,369\n",
      "Trainable params: 17,434,369\n",
      "Non-trainable params: 0\n",
      "----------------------------------------------------------------\n",
      "Input size (MB): 0.31\n",
      "Forward/backward pass size (MB): 7.88\n",
      "Params size (MB): 66.51\n",
      "Estimated Total Size (MB): 74.69\n",
      "----------------------------------------------------------------\n",
      "----------------------------------------------------------------\n",
      "        Layer (type)               Output Shape         Param #\n",
      "================================================================\n",
      "            Linear-1                [-1, 16384]       4,210,688\n",
      "           Reshape-2           [-1, 1024, 4, 4]               0\n",
      "       BatchNorm2d-3           [-1, 1024, 4, 4]           2,048\n",
      "         LeakyReLU-4           [-1, 1024, 4, 4]               0\n",
      "   ConvTranspose2d-5            [-1, 512, 8, 8]      13,107,712\n",
      "       BatchNorm2d-6            [-1, 512, 8, 8]           1,024\n",
      "         LeakyReLU-7            [-1, 512, 8, 8]               0\n",
      "   ConvTranspose2d-8          [-1, 256, 16, 16]       3,277,056\n",
      "       BatchNorm2d-9          [-1, 256, 16, 16]             512\n",
      "        LeakyReLU-10          [-1, 256, 16, 16]               0\n",
      "  ConvTranspose2d-11          [-1, 128, 32, 32]         819,328\n",
      "      BatchNorm2d-12          [-1, 128, 32, 32]             256\n",
      "        LeakyReLU-13          [-1, 128, 32, 32]               0\n",
      "  ConvTranspose2d-14           [-1, 64, 64, 64]         204,864\n",
      "      BatchNorm2d-15           [-1, 64, 64, 64]             128\n",
      "        LeakyReLU-16           [-1, 64, 64, 64]               0\n",
      "  ConvTranspose2d-17          [-1, 5, 128, 128]           8,005\n",
      "       ScaledTanh-18          [-1, 5, 128, 128]               0\n",
      "       ScaledTanh-19          [-1, 5, 128, 128]               0\n",
      "================================================================\n",
      "Total params: 21,631,621\n",
      "Trainable params: 21,631,621\n",
      "Non-trainable params: 0\n",
      "----------------------------------------------------------------\n",
      "Input size (MB): 0.00\n",
      "Forward/backward pass size (MB): 13.62\n",
      "Params size (MB): 82.52\n",
      "Estimated Total Size (MB): 96.14\n",
      "----------------------------------------------------------------\n"
     ]
    }
   ],
   "source": [
    "STanh = cnn.ScaledTanh(15., 2./15.)\n",
    "latent_dim = 256\n",
    "shape = (5,128,128)\n",
    "\n",
    "DCGAN_WGP = gan.DCGAN_WGP(\"sehgal_dcganwgp\", shape, latent_dim, cuda=False, nconv_fcgen=64,\n",
    "                              nconv_fcdis=64, ngpu=4, nconv_layer_gen=5, nconv_layer_disc=5, kernal_size=5, stride=2,\n",
    "                                                        padding=2, output_padding=1, gen_act=STanh)\n",
    "\n",
    "print(\"====cosmogan_wgp======\")\n",
    "torchsummary.summary(DCGAN_WGP.discriminator.cuda(), shape)\n",
    "torchsummary.summary(DCGAN_WGP.generator.cuda(), (latent_dim,))\n",
    "del DCGAN_WGP"
   ]
  },
  {
   "cell_type": "code",
   "execution_count": null,
   "metadata": {},
   "outputs": [],
   "source": []
  }
 ],
 "metadata": {
  "kernelspec": {
   "display_name": "Python 3",
   "language": "python",
   "name": "python3"
  },
  "language_info": {
   "codemirror_mode": {
    "name": "ipython",
    "version": 3
   },
   "file_extension": ".py",
   "mimetype": "text/x-python",
   "name": "python",
   "nbconvert_exporter": "python",
   "pygments_lexer": "ipython3",
   "version": "3.7.7"
  }
 },
 "nbformat": 4,
 "nbformat_minor": 4
}
