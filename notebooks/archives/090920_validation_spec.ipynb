{
 "cells": [
  {
   "cell_type": "code",
   "execution_count": 1,
   "metadata": {},
   "outputs": [],
   "source": [
    "from pitas import power, flipper_tools\n",
    "from orphics import maps as omaps\n",
    "from pixell import enplot, enmap, curvedsky\n",
    "import numpy as np\n",
    "from cosmikyu import stats, mpi, datasets, config, utils, gan, transforms\n",
    "from cosmikyu import nn as cnn\n",
    "import os\n",
    "from itertools import product\n",
    "import healpy as hp\n",
    "import matplotlib.pyplot as plt\n",
    "import random\n",
    "\n",
    "%matplotlib inline\n",
    "%load_ext autoreload\n",
    "%autoreload 2"
   ]
  },
  {
   "cell_type": "code",
   "execution_count": 3,
   "metadata": {},
   "outputs": [
    {
     "name": "stderr",
     "output_type": "stream",
     "text": [
      "/home/dwhan89/.miniconda3/lib/python3.7/site-packages/ipykernel/ipkernel.py:287: DeprecationWarning: `should_run_async` will not call `transform_cell` automatically in the future. Please pass the result to `transformed_cell` argument and any exception that happen during thetransform in `preprocessing_exc_tuple` in IPython 7.17 and above.\n",
      "  and should_run_async(code)\n"
     ]
    },
    {
     "data": {
      "image/png": "[encoded data removed]",
      "text/plain": [
       "<PIL.Image.Image image mode=RGBA size=292x294 at 0x7FAACD07AA10>"
      ]
     },
     "metadata": {},
     "output_type": "display_data"
    }
   ],
   "source": [
    "nside = 10\n",
    "nbatch = nside*nside ## it goes like nbatch**2\n",
    "\n",
    "shape = (128, 128)\n",
    "bshape = (128*nside,128*nside)\n",
    "_, bwcs = omaps.rect_geometry(width_arcmin=64.*nside, px_res_arcmin=0.5)\n",
    "cuda = False\n",
    "\n",
    "def get_template(shape, wcs):\n",
    "    return enmap.zeros(shape, wcs)\n",
    "\n",
    "def get_mask(taper_percent=15.):\n",
    "    taper, _ = omaps.get_taper(bshape, bwcs, taper_percent=taper_percent, pad_percent=0.)\n",
    "    loc = taper == 0\n",
    "    taper[loc] = np.min(taper[~loc])\n",
    "    temp = get_template(bshape, bwcs)\n",
    "    temp[...] = taper\n",
    "    return temp\n",
    "\n",
    "mask = get_mask()\n",
    "enplot.pshow(mask, downgrade=5)"
   ]
  },
  {
   "cell_type": "code",
   "execution_count": 4,
   "metadata": {},
   "outputs": [
    {
     "name": "stderr",
     "output_type": "stream",
     "text": [
      "/home/dwhan89/.miniconda3/lib/python3.7/site-packages/ipykernel/ipkernel.py:287: DeprecationWarning: `should_run_async` will not call `transform_cell` automatically in the future. Please pass the result to `transformed_cell` argument and any exception that happen during thetransform in `preprocessing_exc_tuple` in IPython 7.17 and above.\n",
      "  and should_run_async(code)\n"
     ]
    },
    {
     "name": "stdout",
     "output_type": "stream",
     "text": [
      "mcm directory: /home/dwhan89/workspace/pitas/pitas/../output/082020_128x128taperv5\n",
      "trying to load /home/dwhan89/workspace/pitas/pitas/../output/082020_128x128taperv5/curved_full_DLTT_inv.dat\n",
      "[get_bbl] mcm directory: /home/dwhan89/workspace/pitas/pitas/../output/082020_128x128taperv5\n",
      "trying to load /home/dwhan89/workspace/pitas/pitas/../output/082020_128x128taperv5/curved_full_BBL_DLTT.dat\n"
     ]
    }
   ],
   "source": [
    "bin_edges = np.linspace(0,8000., 40)\n",
    "PITAS = power.PITAS(\"082020_128x128taperv5\", mask, mask, bin_edges=bin_edges, lmax=8000)"
   ]
  },
  {
   "cell_type": "code",
   "execution_count": 5,
   "metadata": {
    "scrolled": true
   },
   "outputs": [
    {
     "name": "stdout",
     "output_type": "stream",
     "text": [
      "[STATS] output_dir is /home/dwhan89/workspace/cosmikyu/cosmikyu/../data/sehgal/stats\n",
      "[STATS] loaded /home/dwhan89/workspace/cosmikyu/cosmikyu/../data/sehgal/stats/stats_sehgal_cosmoganwgpv5_test.npz\n",
      "calculating stats\n"
     ]
    },
    {
     "name": "stderr",
     "output_type": "stream",
     "text": [
      "/home/dwhan89/workspace/cosmikyu/cosmikyu/stats.py:116: RuntimeWarning: Degrees of freedom <= 0 for slice\n",
      "  cov = np.cov(data.transpose(), ddof=ddof)\n",
      "/home/dwhan89/.local/lib/python3.7/site-packages/numpy/lib/function_base.py:2480: RuntimeWarning: divide by zero encountered in true_divide\n",
      "  c *= np.true_divide(1, fact)\n",
      "/home/dwhan89/.local/lib/python3.7/site-packages/numpy/lib/function_base.py:2480: RuntimeWarning: invalid value encountered in multiply\n",
      "  c *= np.true_divide(1, fact)\n",
      "/home/dwhan89/.local/lib/python3.7/site-packages/numpy/lib/function_base.py:2551: RuntimeWarning: Degrees of freedom <= 0 for slice\n",
      "  c = cov(x, y, rowvar)\n",
      "/home/dwhan89/.local/lib/python3.7/site-packages/numpy/core/_methods.py:234: RuntimeWarning: Degrees of freedom <= 0 for slice\n",
      "  keepdims=keepdims)\n",
      "/home/dwhan89/.local/lib/python3.7/site-packages/numpy/core/_methods.py:224: RuntimeWarning: invalid value encountered in true_divide\n",
      "  ret, rcount, out=ret, casting='unsafe', subok=False)\n"
     ]
    }
   ],
   "source": [
    "data_dir = config.default_data_dir\n",
    "sehgal_dir = os.path.join(data_dir, 'sehgal')\n",
    "stat_dir = os.path.join(sehgal_dir, \"stats\")\n",
    "SDS_test = datasets.SehgalDataSet(sehgal_dir, data_type=\"testv3\", transforms=[], dummy_label=False)\n",
    "STAT_TEST = stats.STATS(\"sehgal_cosmoganwgpv5_test\", output_dir=stat_dir, overwrite=False)\n",
    "\n",
    "def get_data(wcs=bwcs, nside=nside, dataset=SDS_test, taper=True):\n",
    "    data = SDS_test[0].copy()\n",
    "    nx, ny = shape\n",
    "    nshape = (data.shape[0], nx*nside, ny*nside)\n",
    "    temp = enmap.zeros(nshape, wcs)\n",
    "    for i in range(nside):\n",
    "        for j in range(nside):\n",
    "            cidx = random.randint(0, len(SDS_test)-1)\n",
    "            sx = i*nx\n",
    "            sy = j*ny\n",
    "            temp[:,sy:sy+ny,sx:sx+nx] = SDS_test[cidx][...]\n",
    "    if taper:\n",
    "        temp[...] *= get_mask()\n",
    "    return temp\n",
    "\n",
    "\n",
    "lmax = 8000\n",
    "overwrite = True\n",
    "compts = [\"kappa\", \"ksz\", \"tsz\", \"ir\", \"rad\"]\n",
    "#compts = [ \"ir\", \"rad\"]\n",
    "subtasks = np.arange(300, dtype=np.int)\n",
    "for sim_idx in subtasks:\n",
    "    continue\n",
    "    \n",
    "    emap = get_data()\n",
    "\n",
    "    alms = {}\n",
    "    for i, compt_idx in enumerate(compts):\n",
    "        print(i, compt_idx)\n",
    "        alms[compt_idx] = curvedsky.map2alm(emap[i], lmax=lmax)\n",
    "    del compt_idx\n",
    "\n",
    "    for compt_idx1, compt_idx2 in product(compts, compts):\n",
    "        compt_keys = [compt_idx1, compt_idx2]\n",
    "        compt_keys.sort()\n",
    "        stat_key = \"dls_{}x{}\".format(compt_keys[0], compt_keys[1])\n",
    "        if STAT_TEST.has_data(stat_key, sim_idx):\n",
    "            continue\n",
    "        else:\n",
    "            cl = hp.alm2cl(alms[compt_idx1], alms[compt_idx2])\n",
    "            l = np.arange(len(cl), dtype=np.float)\n",
    "            dl = l*(l+1.)/(2*np.pi)*cl\n",
    "            lbin, dlbin = PITAS.binner.bin(l, dl)\n",
    "            dlbin = np.dot(PITAS.mcm_dltt_inv, dlbin)\n",
    "            STAT_TEST.add_data(\"lbin\", 0, lbin)\n",
    "            STAT_TEST.add_data(stat_key, sim_idx, dlbin)\n",
    "\n",
    "    #del alms\n",
    "\n",
    "_ = STAT_TEST.get_stats(save_data=False)"
   ]
  },
  {
   "cell_type": "code",
   "execution_count": 6,
   "metadata": {},
   "outputs": [
    {
     "name": "stdout",
     "output_type": "stream",
     "text": [
      "['kappa', 'ksz', 'tsz', 'ir', 'rad']\n"
     ]
    }
   ],
   "source": [
    "print(compts)"
   ]
  },
  {
   "cell_type": "code",
   "execution_count": 7,
   "metadata": {
    "scrolled": false
   },
   "outputs": [
    {
     "name": "stdout",
     "output_type": "stream",
     "text": [
      "/home/dwhan89/workspace/cosmikyu/output/sehgal_dcganwgp_083120/ae1812390e1b42379bcf3efe9be9bb42/model\n",
      "[STATS] output_dir is /home/dwhan89/workspace/cosmikyu/cosmikyu/../data/sehgal/stats\n",
      "[STATS] failed to reload data\n"
     ]
    },
    {
     "ename": "TypeError",
     "evalue": "__init__() got an unexpected keyword argument 'tanh_activation'",
     "output_type": "error",
     "traceback": [
      "\u001b[0;31m---------------------------------------------------------------------------\u001b[0m",
      "\u001b[0;31mTypeError\u001b[0m                                 Traceback (most recent call last)",
      "\u001b[0;32m<ipython-input-7-ede512aff225>\u001b[0m in \u001b[0;36m<module>\u001b[0;34m\u001b[0m\n\u001b[1;32m     17\u001b[0m     DCGAN_WGP = gan.DCGAN_WGP(\"sehgal_dcganwgp\", (5,)+shape, latent_dim, cuda=False, nconv_fcgen=64,\n\u001b[1;32m     18\u001b[0m                                       \u001b[0mnconv_fcdis\u001b[0m\u001b[0;34m=\u001b[0m\u001b[0;36m64\u001b[0m\u001b[0;34m,\u001b[0m \u001b[0mngpu\u001b[0m\u001b[0;34m=\u001b[0m\u001b[0;36m4\u001b[0m\u001b[0;34m,\u001b[0m \u001b[0mnconv_layer_gen\u001b[0m\u001b[0;34m=\u001b[0m\u001b[0;36m5\u001b[0m\u001b[0;34m,\u001b[0m \u001b[0mnconv_layer_disc\u001b[0m\u001b[0;34m=\u001b[0m\u001b[0;36m5\u001b[0m\u001b[0;34m,\u001b[0m \u001b[0mkernal_size\u001b[0m\u001b[0;34m=\u001b[0m\u001b[0;36m5\u001b[0m\u001b[0;34m,\u001b[0m \u001b[0mstride\u001b[0m\u001b[0;34m=\u001b[0m\u001b[0;36m2\u001b[0m\u001b[0;34m,\u001b[0m\u001b[0;34m\u001b[0m\u001b[0;34m\u001b[0m\u001b[0m\n\u001b[0;32m---> 19\u001b[0;31m                                                                 padding=2, output_padding=1, tanh_activation=False)\n\u001b[0m\u001b[1;32m     20\u001b[0m     \u001b[0mDCGAN_WGP\u001b[0m\u001b[0;34m.\u001b[0m\u001b[0mload_states\u001b[0m\u001b[0;34m(\u001b[0m\u001b[0mmodel_dir\u001b[0m\u001b[0;34m,\u001b[0m \u001b[0;34m\"_{}\"\u001b[0m\u001b[0;34m.\u001b[0m\u001b[0mformat\u001b[0m\u001b[0;34m(\u001b[0m\u001b[0msave_point\u001b[0m\u001b[0;34m)\u001b[0m\u001b[0;34m)\u001b[0m\u001b[0;34m\u001b[0m\u001b[0;34m\u001b[0m\u001b[0m\n\u001b[1;32m     21\u001b[0m \u001b[0;34m\u001b[0m\u001b[0m\n",
      "\u001b[0;31mTypeError\u001b[0m: __init__() got an unexpected keyword argument 'tanh_activation'"
     ]
    }
   ],
   "source": [
    "#norm_info_file = \"/home/dwhan89/workspace/cosmikyu/data/sehgal/normalization_info_fullv3.npz\"\n",
    "norm_info_file = \"/home/dwhan89/workspace/cosmikyu/data/sehgal/250820_normalization_info_validation.npz\"\n",
    "experiment_id = \"ae1812390e1b42379bcf3efe9be9bb42\"\n",
    "model_dir = \"/home/dwhan89/workspace/cosmikyu/output/sehgal_dcganwgp_083120/{}/model\".format(experiment_id)\n",
    "print(model_dir)\n",
    "latent_dim = 256\n",
    "overwrite =False\n",
    "#SDUN = transforms.SehgalDataUnnormalizer(norm_info_file, zfact=4)\n",
    "SDN = transforms.SehgalDataNormalizerScaledLogZ(norm_info_file)\n",
    "SDUN = transforms.SehgalDataUnnormalizerScaledLogZ(norm_info_file)\n",
    "#STAT = stats.STATS(\"sehgal_cosmoganwgpv4_generated\", output_dir=stat_dir, overwrite=False)\n",
    "STAT_GEN = stats.STATS(experiment_id, output_dir=stat_dir, overwrite=overwrite)\n",
    "#compts = [\"kappa\", \"ksz\", \"tsz\", \"ir\", \"rad\"]\n",
    "save_points = [5,10,15,20]\n",
    "for save_point in save_points: \n",
    "    compts = [\"kappa\", \"ksz\", \"tsz\", \"ir\", \"rad\"]\n",
    "    DCGAN_WGP = gan.DCGAN_WGP(\"sehgal_dcganwgp\", (5,)+shape, latent_dim, cuda=False, nconv_fcgen=64,\n",
    "                                      nconv_fcdis=64, ngpu=4, nconv_layer_gen=5, nconv_layer_disc=5, kernal_size=5, stride=2,\n",
    "                                                                padding=2, output_padding=1, tanh_activation=False)\n",
    "    DCGAN_WGP.load_states(model_dir, \"_{}\".format(save_point))\n",
    "    \n",
    "    def get_generated(wcs=bwcs, nside=nside, gan=DCGAN_WGP, taper=True):\n",
    "        shape = gan.shape\n",
    "        nx, ny = shape[1], shape[2]\n",
    "        nshape = (shape[0], shape[1]*nside, shape[2]*nside)\n",
    "        temp = enmap.zeros(nshape, wcs)\n",
    "        np.random.seed(0)\n",
    "        generated = gan.generate_samples(nside*nside).data.numpy()\n",
    "        #ctr = 0\n",
    "        for i in range(nside):\n",
    "            for j in range(nside):\n",
    "                ctr = i*nside+j\n",
    "                sx = i*nx\n",
    "                sy = j*ny\n",
    "                temp[:,sy:sy+ny,sx:sx+nx] = SDUN(generated[ctr])\n",
    "        if taper:\n",
    "            temp[...] *= get_mask()\n",
    "        return temp\n",
    "    \n",
    "    subtasks = np.arange(1, dtype=np.int)\n",
    "    for sim_idx in subtasks:\n",
    "        emap = get_generated()\n",
    "        #enplot.pshow(emap)\n",
    "        alms = {}\n",
    "        for i, compt_idx in enumerate(compts):\n",
    "            #i += 3\n",
    "            print(i, compt_idx)\n",
    "            alms[compt_idx] = curvedsky.map2alm(emap[i], lmax=lmax)\n",
    "        del compt_idx\n",
    "        \n",
    "        for compt_idx1, compt_idx2 in product(compts, compts):\n",
    "            compt_keys = [compt_idx1, compt_idx2]\n",
    "            compt_keys.sort()\n",
    "            stat_key = \"dls_{}x{}_r{}\".format(compt_keys[0], compt_keys[1],save_point)\n",
    "            print(stat_key)\n",
    "            if STAT_GEN.has_data(stat_key, sim_idx):\n",
    "                continue\n",
    "            else:\n",
    "                cl = hp.alm2cl(alms[compt_idx1], alms[compt_idx2])\n",
    "                l = np.arange(len(cl), dtype=np.float)\n",
    "                dl = l*(l+1.)/(2*np.pi)*cl\n",
    "                lbin, dlbin = PITAS.binner.bin(l, dl)\n",
    "                dlbin = np.dot(PITAS.mcm_dltt_inv, dlbin)\n",
    "                STAT_GEN.add_data(\"lbin\", 0, lbin)\n",
    "                STAT_GEN.add_data(stat_key, sim_idx, dlbin)\n",
    "\n",
    "        #del alms\n",
    "_ = STAT_GEN.get_stats(save_data=overwrite)"
   ]
  },
  {
   "cell_type": "code",
   "execution_count": 16,
   "metadata": {
    "scrolled": false
   },
   "outputs": [
    {
     "ename": "KeyError",
     "evalue": "'lbin'",
     "output_type": "error",
     "traceback": [
      "\u001b[0;31m---------------------------------------------------------------------------\u001b[0m",
      "\u001b[0;31mKeyError\u001b[0m                                  Traceback (most recent call last)",
      "\u001b[0;32m<ipython-input-16-25b89041820f>\u001b[0m in \u001b[0;36m<module>\u001b[0;34m\u001b[0m\n\u001b[1;32m     12\u001b[0m     \u001b[0;32mfor\u001b[0m \u001b[0msave_point\u001b[0m \u001b[0;32min\u001b[0m \u001b[0msave_points\u001b[0m\u001b[0;34m:\u001b[0m\u001b[0;31m#,20]:\u001b[0m\u001b[0;34m\u001b[0m\u001b[0;34m\u001b[0m\u001b[0m\n\u001b[1;32m     13\u001b[0m         \u001b[0mskey\u001b[0m \u001b[0;34m=\u001b[0m \u001b[0mkey\u001b[0m \u001b[0;34m+\u001b[0m \u001b[0;34m\"_r\"\u001b[0m \u001b[0;34m+\u001b[0m \u001b[0mstr\u001b[0m\u001b[0;34m(\u001b[0m\u001b[0msave_point\u001b[0m\u001b[0;34m)\u001b[0m\u001b[0;34m\u001b[0m\u001b[0;34m\u001b[0m\u001b[0m\n\u001b[0;32m---> 14\u001b[0;31m         \u001b[0mlbin\u001b[0m \u001b[0;34m=\u001b[0m \u001b[0mSTAT_GEN\u001b[0m\u001b[0;34m.\u001b[0m\u001b[0mstorage\u001b[0m\u001b[0;34m[\u001b[0m\u001b[0;34m\"lbin\"\u001b[0m\u001b[0;34m]\u001b[0m\u001b[0;34m[\u001b[0m\u001b[0;36m0\u001b[0m\u001b[0;34m]\u001b[0m\u001b[0;34m.\u001b[0m\u001b[0mcopy\u001b[0m\u001b[0;34m(\u001b[0m\u001b[0;34m)\u001b[0m\u001b[0;34m\u001b[0m\u001b[0;34m\u001b[0m\u001b[0m\n\u001b[0m\u001b[1;32m     15\u001b[0m         \u001b[0mdlbin\u001b[0m \u001b[0;34m=\u001b[0m \u001b[0mSTAT_GEN\u001b[0m\u001b[0;34m.\u001b[0m\u001b[0mstats\u001b[0m\u001b[0;34m[\u001b[0m\u001b[0mskey\u001b[0m\u001b[0;34m]\u001b[0m\u001b[0;34m[\u001b[0m\u001b[0;34m\"mean\"\u001b[0m\u001b[0;34m]\u001b[0m\u001b[0;34m.\u001b[0m\u001b[0mcopy\u001b[0m\u001b[0;34m(\u001b[0m\u001b[0;34m)\u001b[0m\u001b[0;34m\u001b[0m\u001b[0;34m\u001b[0m\u001b[0m\n\u001b[1;32m     16\u001b[0m         \u001b[0mstd\u001b[0m \u001b[0;34m=\u001b[0m \u001b[0mSTAT_GEN\u001b[0m\u001b[0;34m.\u001b[0m\u001b[0mstats\u001b[0m\u001b[0;34m[\u001b[0m\u001b[0mskey\u001b[0m\u001b[0;34m]\u001b[0m\u001b[0;34m[\u001b[0m\u001b[0;34m\"std\"\u001b[0m\u001b[0;34m]\u001b[0m\u001b[0;34m.\u001b[0m\u001b[0mcopy\u001b[0m\u001b[0;34m(\u001b[0m\u001b[0;34m)\u001b[0m\u001b[0;34m\u001b[0m\u001b[0;34m\u001b[0m\u001b[0m\n",
      "\u001b[0;31mKeyError\u001b[0m: 'lbin'"
     ]
    },
    {
     "data": {
      "text/plain": [
       "<Figure size 432x288 with 0 Axes>"
      ]
     },
     "metadata": {},
     "output_type": "display_data"
    },
    {
     "data": {
      "image/png": "[encoded data removed]",
      "text/plain": [
       "<Figure size 1224x720 with 1 Axes>"
      ]
     },
     "metadata": {
      "needs_background": "light"
     },
     "output_type": "display_data"
    }
   ],
   "source": [
    "plt.clf()\n",
    "compts = [\"kappa\", \"ksz\", \"tsz\", \"rad\", \"ir\"]\n",
    "for key1 in compts:\n",
    "    fig = plt.figure(figsize=(17,10))\n",
    "    ax = fig.gca()\n",
    "    key2 = key1\n",
    "    key = [key1, key2]\n",
    "    key.sort()\n",
    "    key = \"dls_\"+\"x\".join(key)\n",
    "   \n",
    "    \n",
    "    for save_point in save_points:#,20]:\n",
    "        skey = key + \"_r\" + str(save_point)\n",
    "        lbin = STAT_GEN.storage[\"lbin\"][0].copy()\n",
    "        dlbin = STAT_GEN.stats[skey][\"mean\"].copy()\n",
    "        std = STAT_GEN.stats[skey][\"std\"].copy()\n",
    "        plt.errorbar(lbin, dlbin, std,  marker=\"o\",markersize=8, label=skey)\n",
    "    \n",
    "    lbin = STAT_TEST.storage[\"lbin\"][0].copy()\n",
    "    dlbin = STAT_TEST.stats[key][\"mean\"].copy()\n",
    "    std = STAT_TEST.stats[key][\"std\"].copy()\n",
    "    plt.errorbar(lbin, dlbin, std, marker=\"o\",markersize=8, color=\"k\", ls=\"--\")\n",
    "    #plt.plot(l, dls, alpha=0.3, label=key, ls=\"\", marker=\"o\", markersize=4)\n",
    "    #plt.plot([],[], label=key, color=color)\n",
    "    plt.plot([],[], ls=\"-\",label=\"Generated\", color=\"k\")\n",
    "    plt.plot([],[], ls=\"--\",label=\"Test\", color=\"k\")\n",
    "    ax.tick_params(axis='both', which='major', labelsize=30)\n",
    "    ax.tick_params(axis='both', which='minor', labelsize=30)\n",
    "    plt.ylabel(r\"$D_\\ell$\", fontsize=40)\n",
    "    plt.xlabel(r\"$\\ell$\", fontsize=40)\n",
    "    plt.legend(fontsize=25)\n",
    "    #plt.ylim(1e-7,2e3)\n",
    "    plt.axvline(x=400, ls=\":\", color=\"k\")\n",
    "    #plt.yscale(\"log\")\n",
    "    plt.show()"
   ]
  },
  {
   "cell_type": "code",
   "execution_count": 17,
   "metadata": {
    "scrolled": false
   },
   "outputs": [
    {
     "ename": "KeyError",
     "evalue": "'lbin'",
     "output_type": "error",
     "traceback": [
      "\u001b[0;31m---------------------------------------------------------------------------\u001b[0m",
      "\u001b[0;31mKeyError\u001b[0m                                  Traceback (most recent call last)",
      "\u001b[0;32m<ipython-input-17-03f18790ad92>\u001b[0m in \u001b[0;36m<module>\u001b[0;34m\u001b[0m\n\u001b[1;32m     11\u001b[0m     \u001b[0mcolor\u001b[0m \u001b[0;34m=\u001b[0m \u001b[0mnext\u001b[0m\u001b[0;34m(\u001b[0m\u001b[0max\u001b[0m\u001b[0;34m.\u001b[0m\u001b[0m_get_lines\u001b[0m\u001b[0;34m.\u001b[0m\u001b[0mprop_cycler\u001b[0m\u001b[0;34m)\u001b[0m\u001b[0;34m[\u001b[0m\u001b[0;34m'color'\u001b[0m\u001b[0;34m]\u001b[0m\u001b[0;34m\u001b[0m\u001b[0;34m\u001b[0m\u001b[0m\n\u001b[1;32m     12\u001b[0m \u001b[0;34m\u001b[0m\u001b[0m\n\u001b[0;32m---> 13\u001b[0;31m     \u001b[0mlbin\u001b[0m \u001b[0;34m=\u001b[0m \u001b[0mSTAT_GEN\u001b[0m\u001b[0;34m.\u001b[0m\u001b[0mstorage\u001b[0m\u001b[0;34m[\u001b[0m\u001b[0;34m\"lbin\"\u001b[0m\u001b[0;34m]\u001b[0m\u001b[0;34m[\u001b[0m\u001b[0;36m0\u001b[0m\u001b[0;34m]\u001b[0m\u001b[0;34m\u001b[0m\u001b[0;34m\u001b[0m\u001b[0m\n\u001b[0m\u001b[1;32m     14\u001b[0m     \u001b[0mdlbin\u001b[0m \u001b[0;34m=\u001b[0m \u001b[0mSTAT_GEN\u001b[0m\u001b[0;34m.\u001b[0m\u001b[0mstats\u001b[0m\u001b[0;34m[\u001b[0m\u001b[0mskey\u001b[0m\u001b[0;34m]\u001b[0m\u001b[0;34m[\u001b[0m\u001b[0;34m\"mean\"\u001b[0m\u001b[0;34m]\u001b[0m\u001b[0;34m\u001b[0m\u001b[0;34m\u001b[0m\u001b[0m\n\u001b[1;32m     15\u001b[0m     \u001b[0mstd\u001b[0m \u001b[0;34m=\u001b[0m \u001b[0mSTAT_GEN\u001b[0m\u001b[0;34m.\u001b[0m\u001b[0mstats\u001b[0m\u001b[0;34m[\u001b[0m\u001b[0mskey\u001b[0m\u001b[0;34m]\u001b[0m\u001b[0;34m[\u001b[0m\u001b[0;34m\"std\"\u001b[0m\u001b[0;34m]\u001b[0m\u001b[0;34m\u001b[0m\u001b[0;34m\u001b[0m\u001b[0m\n",
      "\u001b[0;31mKeyError\u001b[0m: 'lbin'"
     ]
    },
    {
     "data": {
      "text/plain": [
       "<Figure size 432x288 with 0 Axes>"
      ]
     },
     "metadata": {},
     "output_type": "display_data"
    },
    {
     "data": {
      "image/png": "[encoded data removed]",
      "text/plain": [
       "<Figure size 1224x720 with 1 Axes>"
      ]
     },
     "metadata": {
      "needs_background": "light"
     },
     "output_type": "display_data"
    }
   ],
   "source": [
    "plt.clf()\n",
    "fig = plt.figure(figsize=(17,10))\n",
    "ax = fig.gca()\n",
    "compts = [\"kappa\", \"ksz\", \"tsz\", \"rad\", \"ir\"]\n",
    "for key1 in compts:\n",
    "    key2 = key1\n",
    "    key = [key1, key2]\n",
    "    key.sort()\n",
    "    key = \"dls_\"+\"x\".join(key)\n",
    "    skey = key+\"_r{}\".format(save_points[-1])\n",
    "    color = next(ax._get_lines.prop_cycler)['color']\n",
    "    \n",
    "    lbin = STAT_GEN.storage[\"lbin\"][0]\n",
    "    dlbin = STAT_GEN.stats[skey][\"mean\"]\n",
    "    std = STAT_GEN.stats[skey][\"std\"]\n",
    "    plt.errorbar(lbin, dlbin, std,  marker=\"o\",markersize=8, color=color)\n",
    "    \n",
    "    lbin = STAT_TEST.storage[\"lbin\"][0]\n",
    "    dlbin = STAT_TEST.stats[key][\"mean\"]\n",
    "    std = STAT_TEST.stats[key][\"std\"]\n",
    "    plt.errorbar(lbin, dlbin, std, marker=\"o\",markersize=8, color=color, ls=\"--\")\n",
    "    #plt.plot(l, dls, alpha=0.3, label=key, ls=\"\", marker=\"o\", markersize=4)\n",
    "    plt.plot([],[], label=key, color=color)\n",
    "plt.plot([],[], ls=\"-\",label=\"Generated\", color=\"k\")\n",
    "plt.plot([],[], ls=\"--\",label=\"Test\", color=\"k\")\n",
    "ax.tick_params(axis='both', which='major', labelsize=30)\n",
    "ax.tick_params(axis='both', which='minor', labelsize=30)\n",
    "plt.ylabel(r\"$D_\\ell$\", fontsize=40)\n",
    "plt.xlabel(r\"$\\ell$\", fontsize=40)\n",
    "plt.legend(fontsize=25)\n",
    "plt.ylim(1e-7,2e3)\n",
    "plt.axvline(x=400, ls=\":\", color=\"k\")\n",
    "plt.yscale(\"log\")\n",
    "plt.show()\n",
    "\n",
    "def get_correlation(STAT, key1, key2, postfix=\"\"):\n",
    "    key1 = compts[i]\n",
    "    key2 = compts[j]\n",
    "    key = [key1, key2]\n",
    "    key.sort()\n",
    "    key = \"dls_\"+\"x\".join(key)+postfix\n",
    "    \n",
    "    dls_x = STAT.stats[key][\"mean\"].copy()\n",
    "\n",
    "    key = \"dls_\"+\"x\".join([key1, key1])+postfix\n",
    "    dls_1 = STAT.stats[key][\"mean\"].copy()\n",
    "\n",
    "    key = \"dls_\"+\"x\".join([key2, key2])+postfix\n",
    "    dls_2 = STAT.stats[key][\"mean\"].copy()\n",
    "\n",
    "    return dls_x/np.sqrt(dls_1*dls_2)\n",
    "    \n",
    "\n",
    "compts = [\"kappa\", \"ksz\", \"tsz\", \"rad\", \"ir\"]\n",
    "for i in range(5-1):\n",
    "    fig = plt.figure(figsize=(17,10))\n",
    "    ax = fig.gca()\n",
    "    for j in range(i+1,5):\n",
    "        key1, key2 = compts[i], compts[j]\n",
    "        lbin = STAT_GEN.storage[\"lbin\"][0]\n",
    "        color = next(ax._get_lines.prop_cycler)['color']\n",
    "        rho = get_correlation(STAT_TEST, key1, key2)\n",
    "        plt.plot(lbin, rho, alpha=0.8,  ls=\"\", marker=\"x\", markersize=10, color=color)\n",
    "\n",
    "        rho = get_correlation(STAT_GEN, key1, key2, \"_r{}\".format(save_points[-1]))\n",
    "        plt.plot(lbin, rho, alpha=1,  ls=\"\", marker=\"o\", markersize=10, color=color)\n",
    "        plt.plot([],[], label=\"x\".join([key1, key2]), color=color)\n",
    "    plt.plot([],[], ls=\"\",label=\"Generated\", color=\"k\",  marker=\"o\", markersize=10)\n",
    "    plt.plot([],[], ls=\"\",label=\"TEST\", color=\"k\",  marker=\"x\", markersize=10)\n",
    "\n",
    "    ax.tick_params(axis='both', which='major', labelsize=30)\n",
    "    ax.tick_params(axis='both', which='minor', labelsize=30)\n",
    "    plt.ylabel(r\"$\\rho$\", fontsize=40)\n",
    "    plt.xlabel(r\"$\\ell$\", fontsize=40)\n",
    "    plt.ylim(-1,1)\n",
    "    plt.axvline(x=400, ls=\":\", color=\"k\")\n",
    "    plt.axhline(y=0, ls=\"--\", color=\"k\")\n",
    "    plt.legend(fontsize=25)\n",
    "    plt.show()\n",
    "        \n"
   ]
  },
  {
   "cell_type": "code",
   "execution_count": null,
   "metadata": {},
   "outputs": [],
   "source": []
  },
  {
   "cell_type": "code",
   "execution_count": null,
   "metadata": {},
   "outputs": [],
   "source": []
  },
  {
   "cell_type": "code",
   "execution_count": null,
   "metadata": {},
   "outputs": [],
   "source": []
  }
 ],
 "metadata": {
  "kernelspec": {
   "display_name": "Python 3",
   "language": "python",
   "name": "python3"
  },
  "language_info": {
   "codemirror_mode": {
    "name": "ipython",
    "version": 3
   },
   "file_extension": ".py",
   "mimetype": "text/x-python",
   "name": "python",
   "nbconvert_exporter": "python",
   "pygments_lexer": "ipython3",
   "version": "3.7.7"
  }
 },
 "nbformat": 4,
 "nbformat_minor": 4
}
