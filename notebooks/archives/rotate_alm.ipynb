{
 "cells": [
  {
   "cell_type": "code",
   "execution_count": 1,
   "metadata": {},
   "outputs": [],
   "source": [
    "from pixell import enmap, enplot, utils, curvedsky\n",
    "from cosmikyu import maps, config\n",
    "from cosmikyu import utils as cutils\n",
    "from soapack import interfaces as soint\n",
    "import healpy as hp\n",
    "import numpy as np\n",
    "import os\n",
    "import matplotlib.pyplot as plt\n",
    "\n",
    "%matplotlib inline\n",
    "%load_ext autoreload\n",
    "%autoreload 2"
   ]
  },
  {
   "cell_type": "code",
   "execution_count": 2,
   "metadata": {},
   "outputs": [],
   "source": [
    "sehgal_sim_path = soint.dconfig['actsims']['sehgal09_path']\n",
    "SH = maps.SehgalSky2010(sehgal_sim_path, data_type='alm')\n",
    "\n",
    "freq_idxes = ['148', '030', '090', '219', '277', '350']\n",
    "rotate_angles = [0., 20., 40., 60., 80., 100., 120., 140., 160.]\n",
    "overwrite = False\n",
    "\n",
    "fg_loaders = {\n",
    "    'ir_pts': SH.get_cib#,\n",
    "    #'ksz': SH.get_ksz,\n",
    "    #'rad_pts': SH.get_radio,\n",
    "    #'tsz': SH.get_tsz   \n",
    "}\n",
    "\n",
    "def output_path(x):\n",
    "    return os.path.join(sehgal_sim_path, x)"
   ]
  },
  {
   "cell_type": "code",
   "execution_count": null,
   "metadata": {
    "scrolled": true
   },
   "outputs": [
    {
     "name": "stdout",
     "output_type": "stream",
     "text": [
      "skipping /home/dhan1/scratch/act_data/synced_maps/microwaveSky/148_ir_pts_alm_000_000_000.fits\n",
      "skipping /home/dhan1/scratch/act_data/synced_maps/microwaveSky/148_ir_pts_alm_000_020_000.fits\n",
      "skipping /home/dhan1/scratch/act_data/synced_maps/microwaveSky/148_ir_pts_alm_000_040_000.fits\n",
      "skipping /home/dhan1/scratch/act_data/synced_maps/microwaveSky/148_ir_pts_alm_000_060_000.fits\n",
      "skipping /home/dhan1/scratch/act_data/synced_maps/microwaveSky/148_ir_pts_alm_000_080_000.fits\n",
      "skipping /home/dhan1/scratch/act_data/synced_maps/microwaveSky/148_ir_pts_alm_000_100_000.fits\n",
      "skipping /home/dhan1/scratch/act_data/synced_maps/microwaveSky/148_ir_pts_alm_000_120_000.fits\n",
      "skipping /home/dhan1/scratch/act_data/synced_maps/microwaveSky/148_ir_pts_alm_000_140_000.fits\n",
      "skipping /home/dhan1/scratch/act_data/synced_maps/microwaveSky/148_ir_pts_alm_000_160_000.fits\n",
      "skipping /home/dhan1/scratch/act_data/synced_maps/microwaveSky/030_ir_pts_alm_000_000_000.fits\n",
      "generating /home/dhan1/scratch/act_data/synced_maps/microwaveSky/030_ir_pts_alm_000_020_000.fits\n",
      "generating /home/dhan1/scratch/act_data/synced_maps/microwaveSky/030_ir_pts_alm_000_040_000.fits\n",
      "generating /home/dhan1/scratch/act_data/synced_maps/microwaveSky/030_ir_pts_alm_000_060_000.fits\n",
      "generating /home/dhan1/scratch/act_data/synced_maps/microwaveSky/030_ir_pts_alm_000_080_000.fits\n",
      "generating /home/dhan1/scratch/act_data/synced_maps/microwaveSky/030_ir_pts_alm_000_100_000.fits\n",
      "generating /home/dhan1/scratch/act_data/synced_maps/microwaveSky/030_ir_pts_alm_000_120_000.fits\n",
      "generating /home/dhan1/scratch/act_data/synced_maps/microwaveSky/030_ir_pts_alm_000_140_000.fits\n",
      "generating /home/dhan1/scratch/act_data/synced_maps/microwaveSky/030_ir_pts_alm_000_160_000.fits\n",
      "generating /home/dhan1/scratch/act_data/synced_maps/microwaveSky/090_ir_pts_alm_000_000_000.fits\n",
      "generating /home/dhan1/scratch/act_data/synced_maps/microwaveSky/090_ir_pts_alm_000_020_000.fits\n",
      "generating /home/dhan1/scratch/act_data/synced_maps/microwaveSky/090_ir_pts_alm_000_040_000.fits\n",
      "generating /home/dhan1/scratch/act_data/synced_maps/microwaveSky/090_ir_pts_alm_000_060_000.fits\n",
      "generating /home/dhan1/scratch/act_data/synced_maps/microwaveSky/090_ir_pts_alm_000_080_000.fits\n",
      "generating /home/dhan1/scratch/act_data/synced_maps/microwaveSky/090_ir_pts_alm_000_100_000.fits\n",
      "generating /home/dhan1/scratch/act_data/synced_maps/microwaveSky/090_ir_pts_alm_000_120_000.fits\n",
      "generating /home/dhan1/scratch/act_data/synced_maps/microwaveSky/090_ir_pts_alm_000_140_000.fits\n",
      "generating /home/dhan1/scratch/act_data/synced_maps/microwaveSky/090_ir_pts_alm_000_160_000.fits\n",
      "generating /home/dhan1/scratch/act_data/synced_maps/microwaveSky/219_ir_pts_alm_000_000_000.fits\n",
      "generating /home/dhan1/scratch/act_data/synced_maps/microwaveSky/219_ir_pts_alm_000_020_000.fits\n",
      "generating /home/dhan1/scratch/act_data/synced_maps/microwaveSky/219_ir_pts_alm_000_040_000.fits\n",
      "generating /home/dhan1/scratch/act_data/synced_maps/microwaveSky/219_ir_pts_alm_000_060_000.fits\n",
      "generating /home/dhan1/scratch/act_data/synced_maps/microwaveSky/219_ir_pts_alm_000_080_000.fits\n",
      "generating /home/dhan1/scratch/act_data/synced_maps/microwaveSky/219_ir_pts_alm_000_100_000.fits\n"
     ]
    }
   ],
   "source": [
    "for fg_idx in fg_loaders.keys():\n",
    "    for freq_idx in freq_idxes:\n",
    "        alm_org = fg_loaders[fg_idx](freq_idx)\n",
    "        for rotate_angle in rotate_angles:\n",
    "            target_file = output_path(\"{}_{}_alm_000_{}_000.fits\".format(freq_idx, fg_idx, \"%03d\"%int(rotate_angle)))\n",
    "            \n",
    "            if os.path.exists(target_file) and not overwrite:\n",
    "                print(\"skipping {}\".format(target_file))\n",
    "                continue\n",
    "            else:\n",
    "                print(\"generating {}\".format(target_file))\n",
    "                alm = alm_org.copy();\n",
    "                if rotate_angle != 0.:\n",
    "                    hp.rotate_alm(alm, 0., rotate_angle*utils.degree, 0.)\n",
    "                    assert(not np.isclose(alm, alm_org).all())\n",
    "                else:\n",
    "                    assert(np.isclose(alm, alm_org).all())\n",
    "                hp.fitsfunc.write_alm(target_file, alm.astype(\"complex64\"), overwrite=overwrite)\n",
    "                del alm"
   ]
  },
  {
   "cell_type": "code",
   "execution_count": null,
   "metadata": {},
   "outputs": [],
   "source": []
  }
 ],
 "metadata": {
  "kernelspec": {
   "display_name": "Python 3",
   "language": "python",
   "name": "python3"
  },
  "language_info": {
   "codemirror_mode": {
    "name": "ipython",
    "version": 3
   },
   "file_extension": ".py",
   "mimetype": "text/x-python",
   "name": "python",
   "nbconvert_exporter": "python",
   "pygments_lexer": "ipython3",
   "version": "3.7.7"
  }
 },
 "nbformat": 4,
 "nbformat_minor": 4
}
