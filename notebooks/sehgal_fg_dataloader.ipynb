{
 "cells": [
  {
   "cell_type": "code",
   "execution_count": 15,
   "metadata": {},
   "outputs": [
    {
     "name": "stdout",
     "output_type": "stream",
     "text": [
      "The autoreload extension is already loaded. To reload it, use:\n",
      "  %reload_ext autoreload\n"
     ]
    }
   ],
   "source": [
    "from pixell import enmap, enplot, utils\n",
    "from cosmikyu import maps\n",
    "from soapack import interfaces as soint\n",
    "import healpy as hp\n",
    "import numpy as np\n",
    "\n",
    "%matplotlib inline\n",
    "%load_ext autoreload\n",
    "%autoreload 2"
   ]
  },
  {
   "cell_type": "code",
   "execution_count": 2,
   "metadata": {},
   "outputs": [],
   "source": [
    "sehgal_sim_path = soint.dconfig['actsims']['sehgal09_path']\n",
    "SH = maps.SehgalSky2010(sehgal_sim_path, data_type='alm')"
   ]
  },
  {
   "cell_type": "code",
   "execution_count": 22,
   "metadata": {},
   "outputs": [
    {
     "name": "stdout",
     "output_type": "stream",
     "text": [
      "Nx: 120, Ny: 120\n"
     ]
    }
   ],
   "source": [
    "res = 1*utils.arcmin\n",
    "shape, wcs = enmap.fullsky_geometry(res)\n",
    "\n",
    "stamp_width = stamp_height = 2*utils.degree\n",
    "nx = int(np.ceil(stamp_width/res))\n",
    "ny = int(np.ceil(stamp_height/res))\n",
    "shape = (ny, nx)\n",
    "\n",
    "print(\"Nx: {}, Ny: {}\".format(nx, ny))"
   ]
  },
  {
   "cell_type": "code",
   "execution_count": 38,
   "metadata": {},
   "outputs": [],
   "source": [
    "def rand_geometry(width, height, res=None, shape=None, seed=None):\n",
    "    np.random.seed(seed)\n",
    "    ypos = np.random.uniform(-1*np.pi/2., np.pi/2.)\n",
    "    xpos = np.random.uniform(-1*np.pi, np.pi)\n",
    "    return get_geometry(xpos, ypos, width, height, res=res, shape=shape)\n",
    "    \n",
    "\n",
    "def get_geometry(xpos, ypos, width, height, res=None, shape=None):\n",
    "    if shape is None:\n",
    "        nx = int(np.ceil(width/res))\n",
    "        ny = int(np.ceil(height/res))\n",
    "        shape = (ny, nx)\n",
    "    else:pass\n",
    "    pos = [[-1.*height/2.+ypos, -1.*width/2.+xpos], [height/2.+ypos, width/2.+xpos]]\n",
    "    shape, wcs = enmap.geometry(pos=pos, shape=shape)\n",
    "    return (shape, wcs, pos)\n",
    "    \n",
    "\n",
    "def get_template(shape, wcs):\n",
    "    return enmap.zeros(shape, wcs)\n",
    "\n"
   ]
  },
  {
   "cell_type": "code",
   "execution_count": 32,
   "metadata": {},
   "outputs": [],
   "source": [
    "shape, wcs, _ = get_geometry(np.pi,, stamp_width, stamp_height, shape=shape)"
   ]
  },
  {
   "cell_type": "code",
   "execution_count": 46,
   "metadata": {},
   "outputs": [
    {
     "name": "stdout",
     "output_type": "stream",
     "text": [
      "0 [[58.66229015 -4.91320709]\n",
      " [60.66229015 -2.91320709]]\n",
      "1 [[-78.10735592  21.43812301]\n",
      " [-76.10735592  23.43812301]]\n",
      "2 [[-2.60461296 82.74083862]\n",
      " [-0.60461296 84.74083862]]\n",
      "3 [[ 16.18712874 116.09271454]\n",
      " [ 18.18712874 118.09271454]]\n",
      "4 [[  0.99509535 168.15634275]\n",
      " [  2.99509535 170.15634275]]\n",
      "5 [[  34.97585092 -143.86633131]\n",
      " [  36.97585092 -141.86633131]]\n",
      "6 [[  58.51652021 -102.54562009]\n",
      " [  60.51652021 -100.54562009]]\n",
      "7 [[ 55.09409817 165.93275461]\n",
      " [ 57.09409817 167.93275461]]\n",
      "8 [[ 81.9996588  155.63720558]\n",
      " [ 83.9996588  157.63720558]]\n",
      "9 [[-57.28124906 116.64370598]\n",
      " [-55.28124906 118.64370598]]\n"
     ]
    }
   ],
   "source": [
    "for i in range(10):\n",
    "    _, _, pos = rand_geometry(stamp_width, stamp_height, shape=shape)\n",
    "    print(i, np.array(pos) / utils.degree)"
   ]
  },
  {
   "cell_type": "code",
   "execution_count": null,
   "metadata": {},
   "outputs": [],
   "source": []
  }
 ],
 "metadata": {
  "kernelspec": {
   "display_name": "Python 3",
   "language": "python",
   "name": "python3"
  },
  "language_info": {
   "codemirror_mode": {
    "name": "ipython",
    "version": 3
   },
   "file_extension": ".py",
   "mimetype": "text/x-python",
   "name": "python",
   "nbconvert_exporter": "python",
   "pygments_lexer": "ipython3",
   "version": "3.7.4"
  }
 },
 "nbformat": 4,
 "nbformat_minor": 4
}
