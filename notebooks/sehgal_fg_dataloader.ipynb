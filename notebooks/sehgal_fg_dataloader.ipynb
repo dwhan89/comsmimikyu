{
 "cells": [
  {
   "cell_type": "code",
   "execution_count": 3,
   "metadata": {},
   "outputs": [],
   "source": [
    "from pixell import enmap, enplot, utils, curvedsky\n",
    "from cosmikyu import maps, config\n",
    "from cosmikyu import utils as cutils\n",
    "from soapack import interfaces as soint\n",
    "import healpy as hp\n",
    "import numpy as np\n",
    "import os\n",
    "\n",
    "%matplotlib inline\n",
    "%load_ext autoreload\n",
    "%autoreload 2"
   ]
  },
  {
   "cell_type": "code",
   "execution_count": 4,
   "metadata": {},
   "outputs": [],
   "source": [
    "output_dir = config.default_data_dir\n",
    "def output_path(x):\n",
    "    return os.path.join(output_dir, x)"
   ]
  },
  {
   "cell_type": "code",
   "execution_count": 9,
   "metadata": {},
   "outputs": [
    {
     "name": "stdout",
     "output_type": "stream",
     "text": [
      "skipping 030 ir_pts\n",
      "skipping 090 ir_pts\n",
      "skipping 148 ir_pts\n",
      "skipping 219 ir_pts\n",
      "skipping 277 ir_pts\n",
      "skipping 350 ir_pts\n",
      "ir_pts 030 {'mean': 34.04549400407869, 'std': 29.18152531528908, 'max': 1962.4244099098073, 'min': -279.6274886596626}\n",
      "ir_pts 090 {'mean': 1356.5323079135794, 'std': 1174.415770589677, 'max': 68714.10429188391, 'min': -9749.374288827685}\n",
      "ir_pts 148 {'mean': 6723.738431885741, 'std': 5802.9026643761335, 'max': 348620.8448433348, 'min': -47906.45000015778}\n",
      "ir_pts 219 {'mean': 21881.05272039636, 'std': 18976.60609857938, 'max': 1174320.0997806764, 'min': -186649.57752546904}\n",
      "ir_pts 277 {'mean': 41986.01840417685, 'std': 37355.620383476635, 'max': 2435753.0602501566, 'min': -397872.74498460983}\n",
      "ir_pts 350 {'mean': 75860.88969795564, 'std': 68821.71759447258, 'max': 4540703.675758926, 'min': -755946.9776038778}\n"
     ]
    }
   ],
   "source": [
    "sehgal_sim_path = soint.dconfig['actsims']['sehgal09_path']\n",
    "SH = maps.SehgalSky2010(sehgal_sim_path, data_type='alm')\n",
    "\n",
    "freq_idxes = ['030', '090', '148', '219', '277', '350']\n",
    "fg_loaders = {\n",
    "    'ir_pts': SH.get_cib,\n",
    "    #'ksz': SH.get_ksz,\n",
    "    #'rad_pts': SH.get_radio,\n",
    "    #'tsz': SH.get_tsz   \n",
    "}\n",
    "\n",
    "res = 0.5*utils.arcmin\n",
    "fshape, fwcs = enmap.fullsky_geometry(res)\n",
    "template = maps.get_template(fshape, fwcs)\n",
    "\n",
    "for freq_idx in freq_idxes:\n",
    "    for fg_idx in fg_loaders.keys():\n",
    "        target_file = output_path('{}/{}_meta.txt'.format(fg_idx, freq_idx))\n",
    "        if os.path.exists(target_file):\n",
    "            print(\"skipping {} {}\".format(freq_idx, fg_idx))\n",
    "        else:\n",
    "            print(\"processing {} {}\".format(freq_idx, fg_idx))\n",
    "            os.makedirs(output_path(fg_idx), exist_ok=True)\n",
    "            \n",
    "            alm = fg_loaders[fg_idx](freq_idx)\n",
    "            fgmap = curvedsky.alm2map(alm, template.copy())\n",
    "            meta = np.array([np.mean(fgmap), np.std(fgmap), np.max(fgmap), np.min(fgmap)])\n",
    "            np.savetxt(target_file, meta, header=\"mean,std,max,min\",\n",
    "                       comments=\"#[{} F{} 0.5 arcmin res]   \".format(fg_idx.upper(), freq_idx))\n",
    "            \n",
    "            del alm, fgmap\n",
    "            \n",
    "#sign = np.sign(fgmap)\n",
    "#fgmap = np.log(np.abs(fgmap))*sign\n",
    "            \n",
    "def load_meta(fg_idxes, freq_idxes):\n",
    "    ret = cutils.create_dict(fg_idxes, freq_idxes)\n",
    "    for freq_idx in freq_idxes:\n",
    "        for fg_idx in fg_loaders.keys():\n",
    "            target_file = output_path('{}/{}_meta.txt'.format(fg_idx, freq_idx)) \n",
    "            mmean, mstd, mmax, mmin = np.loadtxt(target_file)\n",
    "            ret[fg_idx][freq_idx] = {'mean': mmean, 'std': mstd, 'max': mmax , 'min': mmin}\n",
    "    return ret\n",
    "    \n",
    "metas = load_meta(list(fg_loaders.keys()), freq_idxes)\n",
    "for fg_idx in fg_loaders.keys():\n",
    "    for freq_idx in metas[fg_idx].keys():\n",
    "        print(fg_idx, freq_idx, metas[fg_idx][freq_idx])\n",
    "    \n"
   ]
  },
  {
   "cell_type": "code",
   "execution_count": 6,
   "metadata": {
    "scrolled": false
   },
   "outputs": [
    {
     "name": "stdout",
     "output_type": "stream",
     "text": [
      "0\n",
      "100\n",
      "200\n",
      "300\n",
      "400\n",
      "500\n",
      "600\n",
      "700\n",
      "800\n",
      "900\n",
      "1000\n",
      "1100\n",
      "1200\n",
      "1300\n",
      "1400\n",
      "1500\n",
      "1600\n",
      "1700\n",
      "1800\n",
      "1900\n",
      "2000\n",
      "2100\n",
      "2200\n",
      "2300\n",
      "2400\n",
      "2500\n",
      "2600\n",
      "2700\n",
      "2800\n",
      "2900\n",
      "3000\n",
      "3100\n",
      "3200\n",
      "3300\n",
      "3400\n",
      "3500\n",
      "3600\n",
      "3700\n",
      "3800\n",
      "3900\n",
      "4000\n",
      "4100\n",
      "4200\n",
      "4300\n",
      "4400\n",
      "4500\n",
      "4600\n",
      "4700\n",
      "4800\n",
      "4900\n",
      "5000\n",
      "5100\n",
      "5200\n",
      "5300\n",
      "5400\n",
      "5500\n",
      "5600\n",
      "5700\n",
      "5800\n",
      "5900\n",
      "6000\n",
      "6100\n",
      "6200\n",
      "6300\n",
      "6400\n",
      "6500\n",
      "6600\n",
      "6700\n",
      "6800\n",
      "6900\n",
      "7000\n",
      "7100\n",
      "7200\n",
      "7300\n",
      "7400\n",
      "7500\n",
      "7600\n",
      "7700\n",
      "7800\n",
      "7900\n",
      "8000\n",
      "8100\n",
      "8200\n",
      "8300\n",
      "8400\n",
      "8500\n",
      "8600\n",
      "8700\n",
      "8800\n",
      "8900\n",
      "9000\n",
      "9100\n",
      "9200\n",
      "9300\n",
      "9400\n",
      "9500\n",
      "9600\n",
      "9700\n",
      "9800\n",
      "9900\n"
     ]
    }
   ],
   "source": [
    "for freq_idx in freq_idxes:\n",
    "    for fg_idx in fg_loaders.keys():\n",
    "        alm = fg_loaders[fg_idx](freq_idx)()\n",
    "        for sim_idx in np.arange(10000):\n",
    "            target_file = output_path('{}/{}_{}_{}.fits'.format(fg_idx, freq_idx, '%06d'%sim_idx, res))\n",
    "\n",
    "            if os.path.exists(target_file):\n",
    "                continue\n",
    "            else:\n",
    "                if sim_idx %100 == 0:\n",
    "                    print(\"generating {}\".format(target_file))\n",
    "                try:\n",
    "                    shape, wcs, _ = maps.rand_geometry(stamp_width, stamp_height, shape=shape, seed=sim_idx)\n",
    "                except:\n",
    "                    pass"
   ]
  },
  {
   "cell_type": "code",
   "execution_count": 8,
   "metadata": {},
   "outputs": [
    {
     "data": {
      "text/plain": [
       "True"
      ]
     },
     "execution_count": 8,
     "metadata": {},
     "output_type": "execute_result"
    }
   ],
   "source": [
    "wcs, _, _ = maps.get_geometry(1.3520746650524709,1.7241484721289566 , stamp_width, stamp_width, res=0.5)\n",
    "\n",
    "enmap.wcsutils.is_compatible(fwcs, fwcs)"
   ]
  },
  {
   "cell_type": "code",
   "execution_count": 20,
   "metadata": {},
   "outputs": [
    {
     "data": {
      "text/plain": [
       "astropy.wcs.wcs.WCS"
      ]
     },
     "execution_count": 20,
     "metadata": {},
     "output_type": "execute_result"
    }
   ],
   "source": [
    "type(wcs)"
   ]
  },
  {
   "cell_type": "code",
   "execution_count": null,
   "metadata": {},
   "outputs": [],
   "source": [
    "maps.rand_geometry??"
   ]
  },
  {
   "cell_type": "code",
   "execution_count": 11,
   "metadata": {},
   "outputs": [
    {
     "data": {
      "text/plain": [
       "array([-1,  0,  1])"
      ]
     },
     "execution_count": 11,
     "metadata": {},
     "output_type": "execute_result"
    }
   ],
   "source": [
    "np.sign([-5,0,5])"
   ]
  },
  {
   "cell_type": "code",
   "execution_count": null,
   "metadata": {},
   "outputs": [],
   "source": []
  }
 ],
 "metadata": {
  "kernelspec": {
   "display_name": "Python 3",
   "language": "python",
   "name": "python3"
  },
  "language_info": {
   "codemirror_mode": {
    "name": "ipython",
    "version": 3
   },
   "file_extension": ".py",
   "mimetype": "text/x-python",
   "name": "python",
   "nbconvert_exporter": "python",
   "pygments_lexer": "ipython3",
   "version": "3.7.4"
  }
 },
 "nbformat": 4,
 "nbformat_minor": 4
}
