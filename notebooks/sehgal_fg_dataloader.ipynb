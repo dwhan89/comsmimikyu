{
 "cells": [
  {
   "cell_type": "code",
   "execution_count": 1,
   "metadata": {},
   "outputs": [],
   "source": [
    "from pixell import enmap, enplot, utils, curvedsky\n",
    "from cosmikyu import maps\n",
    "from soapack import interfaces as soint\n",
    "import healpy as hp\n",
    "import numpy as np\n",
    "\n",
    "%matplotlib inline\n",
    "%load_ext autoreload\n",
    "%autoreload 2"
   ]
  },
  {
   "cell_type": "code",
   "execution_count": 2,
   "metadata": {},
   "outputs": [
    {
     "name": "stdout",
     "output_type": "stream",
     "text": [
      "/home/dhan1/scratch/act_data/synced_maps/microwaveSky\n"
     ]
    }
   ],
   "source": [
    "sehgal_sim_path = soint.dconfig['actsims']['sehgal09_path']\n",
    "print(sehgal_sim_path)\n",
    "SH = maps.SehgalSky2010(sehgal_sim_path, data_type='alm')\n",
    "alm = SH.get_cib(148)"
   ]
  },
  {
   "cell_type": "code",
   "execution_count": 3,
   "metadata": {},
   "outputs": [
    {
     "name": "stdout",
     "output_type": "stream",
     "text": [
      "Nx: 300, Ny: 300\n"
     ]
    }
   ],
   "source": [
    "res = 0.5*utils.arcmin\n",
    "shape, wcs = enmap.fullsky_geometry(res)\n",
    "\n",
    "stamp_width = stamp_height = 2.5*utils.degree\n",
    "nx = int(np.ceil(stamp_width/res))\n",
    "ny = int(np.ceil(stamp_height/res))\n",
    "shape = (ny, nx)\n",
    "\n",
    "print(\"Nx: {}, Ny: {}\".format(nx, ny))"
   ]
  },
  {
   "cell_type": "code",
   "execution_count": 4,
   "metadata": {},
   "outputs": [],
   "source": [
    "shape, wcs, _ = maps.get_geometry(np.pi, np.pi, stamp_width, stamp_height, shape=shape)\n",
    "template = maps.get_template(shape, wcs)"
   ]
  },
  {
   "cell_type": "code",
   "execution_count": null,
   "metadata": {},
   "outputs": [],
   "source": [
    "\n"
   ]
  },
  {
   "cell_type": "code",
   "execution_count": 31,
   "metadata": {},
   "outputs": [],
   "source": [
    "emap = curvedsky.alm2map(alm, template.copy())"
   ]
  },
  {
   "cell_type": "code",
   "execution_count": 25,
   "metadata": {},
   "outputs": [
    {
     "data": {
      "text/plain": [
       "300"
      ]
     },
     "execution_count": 25,
     "metadata": {},
     "output_type": "execute_result"
    }
   ],
   "source": []
  },
  {
   "cell_type": "code",
   "execution_count": null,
   "metadata": {},
   "outputs": [],
   "source": []
  }
 ],
 "metadata": {
  "kernelspec": {
   "display_name": "Python 3",
   "language": "python",
   "name": "python3"
  },
  "language_info": {
   "codemirror_mode": {
    "name": "ipython",
    "version": 3
   },
   "file_extension": ".py",
   "mimetype": "text/x-python",
   "name": "python",
   "nbconvert_exporter": "python",
   "pygments_lexer": "ipython3",
   "version": "3.6.9"
  }
 },
 "nbformat": 4,
 "nbformat_minor": 4
}
