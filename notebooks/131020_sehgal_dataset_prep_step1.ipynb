{
 "cells": [
  {
   "cell_type": "code",
   "execution_count": 4,
   "metadata": {},
   "outputs": [
    {
     "name": "stdout",
     "output_type": "stream",
     "text": [
      "The autoreload extension is already loaded. To reload it, use:\n",
      "  %reload_ext autoreload\n"
     ]
    }
   ],
   "source": [
    "from orphics import sehgal, maps\n",
    "import healpy as hp\n",
    "from pixell import utils, enmap, curvedsky, enplot, wcsutils\n",
    "import os\n",
    "import numpy as np\n",
    "\n",
    "import matplotlib.pyplot as plt\n",
    "import lmdb\n",
    "from cosmikyu import datasets, transforms\n",
    "\n",
    "%matplotlib inline\n",
    "%load_ext autoreload\n",
    "%autoreload 2"
   ]
  },
  {
   "cell_type": "markdown",
   "metadata": {},
   "source": [
    "### !!! Refactored / Not Tested"
   ]
  },
  {
   "cell_type": "code",
   "execution_count": 7,
   "metadata": {},
   "outputs": [],
   "source": [
    "np.save?"
   ]
  },
  {
   "cell_type": "code",
   "execution_count": null,
   "metadata": {},
   "outputs": [
    {
     "name": "stdout",
     "output_type": "stream",
     "text": [
      "kappa\n",
      "rad_pts\n",
      "saving /home/dwhan89/scratch/data/sehgal_et_al_sims/cosmo_sim_maps/July2009/output/131020_hybrid_projection/148_rad_pts_alm_000_000_000.fits\n",
      "NSIDE = 8192\n",
      "ORDERING = RING in fits file\n",
      "INDXSCHM = IMPLICIT\n"
     ]
    },
    {
     "name": "stderr",
     "output_type": "stream",
     "text": [
      "/home/dwhan89/.miniconda3/lib/python3.7/site-packages/healpy/fitsfunc.py:352: UserWarning: If you are not specifying the input dtype and using the default np.float64 dtype of read_map(), please consider that it will change in a future version to None as to keep the same dtype of the input file: please explicitly set the dtype if it is important to you.\n",
      "  \"If you are not specifying the input dtype and using the default \"\n",
      "/home/dwhan89/.miniconda3/lib/python3.7/site-packages/healpy/fitsfunc.py:403: UserWarning: No INDXSCHM keyword in header file : assume IMPLICIT\n",
      "  warnings.warn(\"No INDXSCHM keyword in header file : \" \"assume {}\".format(schm))\n"
     ]
    },
    {
     "name": "stdout",
     "output_type": "stream",
     "text": [
      "ntot 49018754 nhi 1900454 nlo 47118300\n",
      "359.9945068359375 0.0 89.88578658247164 -89.88578658247167\n",
      "saving  /home/dwhan89/scratch/data/sehgal_et_al_sims/cosmo_sim_maps/July2009/output/131020_hybrid_projection/148_rad_pts_alm_000_020_000.fits\n",
      "loading  /home/dwhan89/scratch/data/sehgal_et_al_sims/cosmo_sim_maps/July2009/output/131020_hybrid_projection/148_rad_pts_alm_000_000_000.fits\n"
     ]
    }
   ],
   "source": [
    "sehgal_dir = \"/home/dwhan89/scratch/data/sehgal_et_al_sims/cosmo_sim_maps/July2009/inputs/microwaveSky\"\n",
    "output_dir = \"/home/dwhan89/scratch/data/sehgal_et_al_sims/cosmo_sim_maps/July2009/output/131020_hybrid_projection\"\n",
    "def output_path(x):\n",
    "    return os.path.join(output_dir, x)\n",
    "\n",
    "SEHGAL10 = sehgal.SehgalSky2010(path=sehgal_dir, data_type='healpix')\n",
    "TEMP_ALM = sehgal.SehgalSky2010(path=output_dir, data_type='alm')\n",
    "TEMP_ENMAP = sehgal.SehgalSky2010(path=output_dir, data_type='enmap')\n",
    "\n",
    "rfs = {\"kappa\": lambda : SEHGAL10.get_kappa(),\n",
    "       \"ksz\": lambda : SEHGAL10.get_ksz(148),\n",
    "       \"tsz\": lambda :SEHGAL10.get_tsz(148),\n",
    "       \"rad_pts\": lambda :SEHGAL10.get_radio(148),\n",
    "       \"ir_pts\": lambda :SEHGAL10.get_cib(148)\n",
    "      }\n",
    "\n",
    "rfs_alm = {\"kappa\": lambda x: TEMP_ALM.get_kappa(filename_only=x),\n",
    "       \"ksz\": lambda x: TEMP_ALM.get_ksz(148,filename_only=x),\n",
    "       \"tsz\": lambda x:TEMP_ALM.get_tsz(148,filename_only=x),\n",
    "       \"rad_pts\": lambda x:TEMP_ALM.get_radio(148,filename_only=x),\n",
    "       \"ir_pts\": lambda x:TEMP_ALM.get_cib(148,filename_only=x)\n",
    "      }\n",
    "\n",
    "rot_angles1 = [0, 15]# 30, 45, 60, 75]\n",
    "rot_angles2 = [0, 20, 40]#, 60, 80]\n",
    "lmax = 10000\n",
    "shape, wcs = enmap.fullsky_geometry(res=0.5*utils.arcmin)\n",
    "for compt_idx in [\"kappa\"]:#, \"ksz\", \"tsz\"]:\n",
    "    print(compt_idx)\n",
    "    freq_idx = \"148_\" if compt_idx != \"kappa\" else \"\"\n",
    "    temp_path = output_path(\"%s%s_alm_%s_%s_000.fits\")\n",
    "    ref_file = temp_path %(freq_idx, compt_idx, \"%0.3d\"%0, \"%0.3d\"%0)\n",
    "    if not os.path.exists(ref_file):\n",
    "        print(\"saving\", ref_file)\n",
    "        alm_ref = hp.map2alm(rfs[compt_idx](), lmax=lmax)\n",
    "        hp.fitsfunc.write_alm(ref_file, alm_ref, overwrite=True)\n",
    "    else:\n",
    "        pass\n",
    "\n",
    "    for i, rot_angle1 in enumerate(rot_angles1):\n",
    "        for j, rot_angle2 in enumerate(rot_angles2):\n",
    "            target_file = temp_path %(freq_idx, compt_idx, \"%0.3d\"%rot_angle1, \"%0.3d\"%rot_angle2)\n",
    "            if not os.path.exists(target_file):\n",
    "                if rot_angle2 != 0: \n",
    "                    print(\"saving \", target_file)\n",
    "                    if j == 1:\n",
    "                        ref_file = temp_path %(freq_idx, compt_idx, \"%0.3d\"%0, \"%0.3d\"%0)\n",
    "                        print(\"loading \", ref_file)\n",
    "                        alm = np.complex128(hp.read_alm(ref_file))\n",
    "                        hp.rotate_alm(alm, rot_angle1*utils.degree, rot_angle2*utils.degree, 0, lmax=lmax)\n",
    "                    else:\n",
    "                        ref_file = temp_path %(freq_idx, compt_idx, \"%0.3d\"%rot_angle1, \"%0.3d\"%rot_angles2[j-1])\n",
    "                        print(\"loading \", ref_file)\n",
    "                        alm = np.complex128(hp.read_alm(ref_file))\n",
    "                        hp.rotate_alm(alm, 0,  (rot_angles2[j]-rot_angles2[j-1])*utils.degree, 0, lmax=lmax)\n",
    "                    hp.fitsfunc.write_alm(target_file, alm, overwrite=True)\n",
    "                else:\n",
    "                    continue\n",
    "            else:\n",
    "                continue\n",
    "               \n",
    "    \n",
    "    \n",
    "## with flux cut\n",
    "#flux_cut = 15*1e-3 # flux cut in Jy\n",
    "flux_cuts = {\"rad_pts\": (1e-4, 20e-3),\n",
    "             \"ir_pts\": (5e-3, 20e-3),\n",
    "            }\n",
    "NSIDE = 8192\n",
    "hparea =  hp.pixelfunc.nside2pixarea(NSIDE)\n",
    "for compt_idx in [\"rad_pts\",\"ir_pts\"]:\n",
    "    print(compt_idx)\n",
    "    freq_idx = \"148_\" if compt_idx != \"kappa\" else \"\"\n",
    "    temp_path = output_path(\"%s%s_alm_%s_%s_000.fits\")\n",
    "    ref_file = temp_path %(freq_idx, compt_idx, \"%0.3d\"%0, \"%0.3d\"%0)\n",
    "    if not os.path.exists(ref_file):\n",
    "        print(\"saving\", ref_file)\n",
    "        hpmap = rfs[compt_idx]()\n",
    "        loflux_cut, hiflux_cut = flux_cuts[compt_idx]\n",
    "        assert(hiflux_cut >= loflux_cut)\n",
    "        \n",
    "        loc = np.where(np.abs(hpmap) >= hiflux_cut/hparea*sehgal.jysr2thermo(148))\n",
    "        hpmap[loc] = 0\n",
    "        hpmap_hi = hpmap.copy()\n",
    "        loc = np.where(np.abs(hpmap_hi) <= loflux_cut/hparea*sehgal.jysr2thermo(148))\n",
    "        hpmap_lo = hpmap_hi.copy()\n",
    "        hpmap_hi[loc] = 0 \n",
    "        hpmap_lo = hpmap-hpmap_hi\n",
    "\n",
    "        loc = np.where(hpmap != 0)\n",
    "        ntot = len(loc[0])\n",
    "        loc = np.where(hpmap_hi != 0)\n",
    "        nhi = len(loc[0])\n",
    "        loc = np.where(hpmap_lo != 0)\n",
    "        nlo = len(loc[0])\n",
    "\n",
    "        print(\"ntot\", ntot, \"nhi\", nhi, \"nlo\", nlo,)\n",
    "        \n",
    "        loc = np.where(hpmap_hi != 0)\n",
    "        ra, dec = hp.pixelfunc.pix2ang(NSIDE, loc[0], lonlat=True)\n",
    "        print(np.max(ra),np.min(ra), np.max(dec),np.min(dec))\n",
    "        hiflux_cat = np.zeros((len(loc[0]),3))\n",
    "        hiflux_cat[:,0] = dec*utils.degree#-np.pi/2\n",
    "        hiflux_cat[:,1] = ra*utils.degree-np.pi\n",
    "        hiflux_cat[:,2] = hpmap_hi[loc]*hparea\n",
    "        np.save(output_path(\"%s%s_highflux_cat.npy\"%(freq_idx, compt_idx)), hiflux_cat)\n",
    "        del hpmap_hi\n",
    "        \n",
    "        #alm_lo = curvedsky.map2alm_healpix(hpmap_lo, lmax=lmax)\n",
    "        alm_ref = hp.map2alm(hpmap_lo, lmax=lmax)\n",
    "        hp.fitsfunc.write_alm(ref_file, alm_ref, overwrite=True)\n",
    "        del hpmap_lo\n",
    "        \n",
    "    else:\n",
    "        pass\n",
    "\n",
    "    for i, rot_angle1 in enumerate(rot_angles1):\n",
    "        for j, rot_angle2 in enumerate(rot_angles2):\n",
    "            target_file = temp_path %(freq_idx, compt_idx, \"%0.3d\"%rot_angle1, \"%0.3d\"%rot_angle2)\n",
    "            if not os.path.exists(target_file):\n",
    "                if rot_angle2 != 0: \n",
    "                    print(\"saving \", target_file)\n",
    "                    if j == 1:\n",
    "                        ref_file = temp_path %(freq_idx, compt_idx, \"%0.3d\"%0, \"%0.3d\"%0)\n",
    "                        print(\"loading \", ref_file)\n",
    "                        alm = np.complex128(hp.read_alm(ref_file))\n",
    "                        hp.rotate_alm(alm, rot_angle1*utils.degree, rot_angle2*utils.degree, 0, lmax=lmax)\n",
    "                    else:\n",
    "                        ref_file = temp_path %(freq_idx, compt_idx, \"%0.3d\"%rot_angle1, \"%0.3d\"%rot_angles2[j-1])\n",
    "                        print(\"loading \", ref_file)\n",
    "                        alm = np.complex128(hp.read_alm(ref_file))\n",
    "                        hp.rotate_alm(alm, 0,  (rot_angles2[j]-rot_angles2[j-1])*utils.degree, 0, lmax=lmax)\n",
    "                    hp.fitsfunc.write_alm(target_file, alm, overwrite=True)\n",
    "                else:\n",
    "                    continue\n",
    "            else:\n",
    "                continue\n",
    "               \n",
    "    \n",
    "    \n",
    "    "
   ]
  },
  {
   "cell_type": "code",
   "execution_count": 14,
   "metadata": {},
   "outputs": [],
   "source": [
    "shape, wcs = enmap.fullsky_geometry(res= 4*utils.arcmin)\n",
    "template = enmap.zeros(shape, wcs)"
   ]
  },
  {
   "cell_type": "code",
   "execution_count": 6,
   "metadata": {},
   "outputs": [
    {
     "name": "stdout",
     "output_type": "stream",
     "text": [
      "0 0\n"
     ]
    },
    {
     "data": {
      "image/png": "[encoded data removed]",
      "text/plain": [
       "<Figure size 432x288 with 1 Axes>"
      ]
     },
     "metadata": {
      "needs_background": "light"
     },
     "output_type": "display_data"
    },
    {
     "name": "stdout",
     "output_type": "stream",
     "text": [
      "0 20\n"
     ]
    },
    {
     "data": {
      "image/png": "[encoded data removed]",
      "text/plain": [
       "<Figure size 432x288 with 1 Axes>"
      ]
     },
     "metadata": {
      "needs_background": "light"
     },
     "output_type": "display_data"
    },
    {
     "name": "stdout",
     "output_type": "stream",
     "text": [
      "0 40\n"
     ]
    },
    {
     "data": {
      "image/png": "[encoded data removed]",
      "text/plain": [
       "<Figure size 432x288 with 1 Axes>"
      ]
     },
     "metadata": {
      "needs_background": "light"
     },
     "output_type": "display_data"
    },
    {
     "name": "stdout",
     "output_type": "stream",
     "text": [
      "15 20\n"
     ]
    },
    {
     "data": {
      "image/png": "[encoded data removed]",
      "text/plain": [
       "<Figure size 432x288 with 1 Axes>"
      ]
     },
     "metadata": {
      "needs_background": "light"
     },
     "output_type": "display_data"
    },
    {
     "name": "stdout",
     "output_type": "stream",
     "text": [
      "15 40\n"
     ]
    },
    {
     "data": {
      "image/png": "[encoded data removed]",
      "text/plain": [
       "<Figure size 432x288 with 1 Axes>"
      ]
     },
     "metadata": {
      "needs_background": "light"
     },
     "output_type": "display_data"
    }
   ],
   "source": [
    "input_dir1 = \"/home/dwhan89/scratch/data/sehgal_et_al_sims/cosmo_sim_maps/July2009/output/rotated_lmax10000_20mjycuts/\"\n",
    "input_dir2 = \"/home/dwhan89/scratch/data/sehgal_et_al_sims/cosmo_sim_maps/July2009/output/131020_hybrid_projection\"\n",
    "for i, rot_angle1 in enumerate(rot_angles1):\n",
    "    for j, rot_angle2 in enumerate(rot_angles2):\n",
    "        if rot_angle2 == 0 and rot_angle1 != 0:\n",
    "            continue\n",
    "        file1_path = os.path.join(input_dir1, \"kappa_alm_%s_%s_000.fits\" %(\"%0.3d\"%rot_angle1, \"%0.3d\"%rot_angle2))\n",
    "        file2_path = os.path.join(input_dir2, \"kappa_alm_%s_%s_000.fits\" %(\"%0.3d\"%rot_angle1, \"%0.3d\"%rot_angle2))\n",
    "        alm1 = np.complex128(hp.read_alm(file1_path))\n",
    "        alm2 = np.complex128(hp.read_alm(file2_path))\n",
    "        #enplot.pshow(curvedsky.alm2map(alm1, template))\n",
    "        #enplot.pshow(curvedsky.alm2map(alm2, template))\n",
    "        \n",
    "        cl1 = hp.alm2cl(alm1)\n",
    "        cl2 = hp.alm2cl(alm2)\n",
    "        clx = hp.alm2cl(alm1, alm2)\n",
    "        \n",
    "        rho = clx/np.sqrt(cl1*cl2)\n",
    "        \n",
    "        plt.plot(rho)\n",
    "        print(rot_angle1, rot_angle2)\n",
    "        plt.show()"
   ]
  },
  {
   "cell_type": "code",
   "execution_count": null,
   "metadata": {},
   "outputs": [],
   "source": []
  }
 ],
 "metadata": {
  "kernelspec": {
   "display_name": "Python 3",
   "language": "python",
   "name": "python3"
  },
  "language_info": {
   "codemirror_mode": {
    "name": "ipython",
    "version": 3
   },
   "file_extension": ".py",
   "mimetype": "text/x-python",
   "name": "python",
   "nbconvert_exporter": "python",
   "pygments_lexer": "ipython3",
   "version": "3.7.7"
  }
 },
 "nbformat": 4,
 "nbformat_minor": 4
}
