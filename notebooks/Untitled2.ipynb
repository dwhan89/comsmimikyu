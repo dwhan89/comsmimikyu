{
 "cells": [
  {
   "cell_type": "code",
   "execution_count": null,
   "metadata": {
    "scrolled": false
   },
   "outputs": [
    {
     "name": "stderr",
     "output_type": "stream",
     "text": [
      "/home/dwhan89/.miniconda3/lib/python3.7/site-packages/ipykernel/ipkernel.py:287: DeprecationWarning: `should_run_async` will not call `transform_cell` automatically in the future. Please pass the result to `transformed_cell` argument and any exception that happen during thetransform in `preprocessing_exc_tuple` in IPython 7.17 and above.\n",
      "  and should_run_async(code)\n",
      "WARNING:root:Malformed experiment 'mlruns'. Detailed error Yaml file '/home/dwhan89/workspace/cosmikyu/cosmikyu/../output/mlruns/mlruns/meta.yaml' does not exist.\n",
      "Traceback (most recent call last):\n",
      "  File \"/home/dwhan89/.miniconda3/lib/python3.7/site-packages/mlflow/store/tracking/file_store.py\", line 197, in list_experiments\n",
      "    experiment = self._get_experiment(exp_id, view_type)\n",
      "  File \"/home/dwhan89/.miniconda3/lib/python3.7/site-packages/mlflow/store/tracking/file_store.py\", line 260, in _get_experiment\n",
      "    meta = read_yaml(experiment_dir, FileStore.META_DATA_FILE_NAME)\n",
      "  File \"/home/dwhan89/.miniconda3/lib/python3.7/site-packages/mlflow/utils/file_utils.py\", line 167, in read_yaml\n",
      "    raise MissingConfigException(\"Yaml file '%s' does not exist.\" % file_path)\n",
      "mlflow.exceptions.MissingConfigException: Yaml file '/home/dwhan89/workspace/cosmikyu/cosmikyu/../output/mlruns/mlruns/meta.yaml' does not exist.\n"
     ]
    },
    {
     "name": "stdout",
     "output_type": "stream",
     "text": [
      "Number of joined samples are 200000\n",
      "[WARNING] You have a CUDA device. You probably want to run with CUDA enabled\n"
     ]
    },
    {
     "name": "stderr",
     "output_type": "stream",
     "text": [
      "WARNING:root:Malformed experiment 'mlruns'. Detailed error Yaml file '/home/dwhan89/workspace/cosmikyu/cosmikyu/../output/mlruns/mlruns/meta.yaml' does not exist.\n",
      "Traceback (most recent call last):\n",
      "  File \"/home/dwhan89/.miniconda3/lib/python3.7/site-packages/mlflow/store/tracking/file_store.py\", line 197, in list_experiments\n",
      "    experiment = self._get_experiment(exp_id, view_type)\n",
      "  File \"/home/dwhan89/.miniconda3/lib/python3.7/site-packages/mlflow/store/tracking/file_store.py\", line 260, in _get_experiment\n",
      "    meta = read_yaml(experiment_dir, FileStore.META_DATA_FILE_NAME)\n",
      "  File \"/home/dwhan89/.miniconda3/lib/python3.7/site-packages/mlflow/utils/file_utils.py\", line 167, in read_yaml\n",
      "    raise MissingConfigException(\"Yaml file '%s' does not exist.\" % file_path)\n",
      "mlflow.exceptions.MissingConfigException: Yaml file '/home/dwhan89/workspace/cosmikyu/cosmikyu/../output/mlruns/mlruns/meta.yaml' does not exist.\n"
     ]
    },
    {
     "name": "stdout",
     "output_type": "stream",
     "text": [
      "loading saved states \n",
      "failed to load saved states\n",
      "saving states _0\n",
      "[Epoch 0/100] [Batch 0/6250] [D loss: 9.466755] [G loss: 0.189648]\n",
      "[Epoch 0/100] [Batch 5/6250] [D loss: 8.027654] [G loss: 1.181412]\n",
      "[Epoch 0/100] [Batch 10/6250] [D loss: 4.324178] [G loss: 3.631386]\n",
      "[Epoch 0/100] [Batch 15/6250] [D loss: -6.993964] [G loss: 9.824821]\n"
     ]
    }
   ],
   "source": [
    "from cosmikyu import gan, config, datasets, transforms, utils\n",
    "from cosmikyu import nn as cnn\n",
    "import os\n",
    "import torch\n",
    "import mlflow\n",
    "from orphics import maps\n",
    "import numpy as np\n",
    "\n",
    "data_dir = config.default_data_dir\n",
    "sehgal_dir = os.path.join(data_dir, 'sehgal')\n",
    "cuda = True\n",
    "compts = [\"kappa\", \"ksz\", \"tsz\", \"ir_pts\", \"rad_pts\"]\n",
    "compt_idxes = [0, 1, 2, 3, 4]\n",
    "shape = (10, 128, 128)\n",
    "sample_interval = 500\n",
    "save_interval = 1\n",
    "batch_size = 32\n",
    "nepochs = 100\n",
    "norm_info_file = \"/home/dwhan89/workspace/cosmikyu/data/sehgal/201020_logzshrink_normalization_info_validation.npz\"\n",
    "_, wcs = maps.rect_geometry(width_arcmin=64., px_res_arcmin=0.5)\n",
    "\n",
    "# Configure data loader\n",
    "os.makedirs(data_dir, exist_ok=True)\n",
    "os.makedirs(sehgal_dir, exist_ok=True)\n",
    "SDN = transforms.SehgalDataNormalizerScaledLogZShrink(norm_info_file)\n",
    "RF = transforms.RandomFlips(p_v=0.5, p_h=0.5)\n",
    "SDS_target = datasets.SehgalDataSet(sehgal_dir, \"train141020\", transforms=[SDN, RF], dummy_label=False, dtype=np.float64)\n",
    "SDS_input = datasets.SehgalDataSet(sehgal_dir, \"train_tertiary081120\", transforms=[SDN], dummy_label=False, dtype=np.float32)\n",
    "DSJ = datasets.DataSetJoiner([SDS_input,SDS_target],  dtype=np.float64, shape=(10, 128, 128), dummy_label=True)\n",
    "\n",
    "dataloader = torch.utils.data.DataLoader(\n",
    "    DSJ,\n",
    "    batch_size=batch_size,\n",
    "    shuffle=True,\n",
    ")\n",
    "\n",
    "\n",
    "LF = cnn.LinearFeature(5,5, bias=True)\n",
    "experiment_id = \"06b9a352b8bb4051b50f91660ebc4cfe\"\n",
    "model_dir = \"/home/dwhan89/workspace/cosmikyu/output/sehgal_pixganwgp_301020/{}/model\".format(experiment_id)\n",
    "FORSE = gan.FORSE_WGP(\"sehgal_forse_081020\", shape, nconv_fcgen=64,\n",
    "                          nconv_fcdis=64, cuda=False, ngpu=4, nconv_layer_gen=4, nconv_layer_disc=4, kernal_size=4, stride=2,\n",
    "                          padding=1, output_padding=0, gen_act=[LF], nin_channel=5, nout_channel=5, nthresh_layer_gen=0, nthresh_layer_disc=0, dropout_rate=0)\n",
    "#FORSE.load_states(model_dir, \"_{}\".format(13))\n",
    "mlflow.set_experiment(FORSE.identifier)\n",
    "with mlflow.start_run(experiment_id=FORSE.experiment.experiment_id) as mlflow_run:\n",
    "    torch.cuda.empty_cache()\n",
    "    FORSE.train(\n",
    "        dataloader,\n",
    "        nepochs=nepochs,\n",
    "        ncritics=5,\n",
    "        sample_interval=sample_interval,\n",
    "        save_interval=save_interval,\n",
    "        load_states=True,\n",
    "        save_states=True,\n",
    "        verbose=True,\n",
    "        mlflow_run=mlflow_run,\n",
    "        lr=1e-4,\n",
    "        betas=(0.5, 0.9),\n",
    "        lambda_gp=10.\n",
    "    )\n",
    "\n"
   ]
  },
  {
   "cell_type": "code",
   "execution_count": null,
   "metadata": {},
   "outputs": [],
   "source": []
  }
 ],
 "metadata": {
  "kernelspec": {
   "display_name": "Python 3",
   "language": "python",
   "name": "python3"
  },
  "language_info": {
   "codemirror_mode": {
    "name": "ipython",
    "version": 3
   },
   "file_extension": ".py",
   "mimetype": "text/x-python",
   "name": "python",
   "nbconvert_exporter": "python",
   "pygments_lexer": "ipython3",
   "version": "3.7.7"
  }
 },
 "nbformat": 4,
 "nbformat_minor": 4
}
